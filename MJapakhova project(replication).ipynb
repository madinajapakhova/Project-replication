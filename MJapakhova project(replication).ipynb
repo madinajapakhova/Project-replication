{
 "cells": [
  {
   "cell_type": "markdown",
   "metadata": {},
   "source": [
    "Microeconometrics, SoSe 2020, Bonn University   \n",
    "Student: Madina Japakhova     "
   ]
  },
  {
   "cell_type": "markdown",
   "metadata": {},
   "source": [
    "##  Reducing Child Mortality in the Last Mile: Experimental Evidence on Community Health Promoters in Uganda. Replication project.   "
   ]
  },
  {
   "cell_type": "markdown",
   "metadata": {},
   "source": [
    "This notebook replicates the results by Martina Björkman Nyqvist, Andrea Guariso, Jakob Svensson, and David Yanagizawa-Drott. *Reducing Child Mortality in the Last Mile: Experimental Evidence on Community Health Promoters in Uganda.* American Economic Journal: Applied Economics 2019, 11(3): 155-192.    \n",
    "\n",
    "While respecting the structure of the original paper, the notebook contains additional plots to visualize the results. All tables, except those in the [*Extension*](#Extension*), are replications of the paper's results and keep their titles and numbering. \n",
    "\n",
    "[Paper](https://www.aeaweb.org/articles?id=10.1257/app.20170201).   \n",
    "[All replication data was provided by authors](https://www.openicpsr.org/openicpsr/project/116355/version/V1/view)   \n",
    "[Additional evidence on child mortality was taken from WHO.](https://www.who.int/gho/child_health/mortality/en/)    "
   ]
  },
  {
   "cell_type": "markdown",
   "metadata": {},
   "source": [
    "**Viewing**  \n",
    "      In order to view all tables, footnotes and hyperlinks within, this work must be viewed in a Jupyter Notebook kernel. Also, by runninng the subsequent cell, the code is hidden for enhanced readability of the work. The layouts of the text and images are best after doing so."
   ]
  },
  {
   "cell_type": "code",
   "execution_count": 234,
   "metadata": {},
   "outputs": [
    {
     "data": {
      "text/html": [
       "<script>\n",
       "code_show=true; \n",
       "function code_toggle() {\n",
       " if (code_show){\n",
       " $('div.input').hide();\n",
       " } else {\n",
       " $('div.input').show();\n",
       " }\n",
       " code_show = !code_show\n",
       "} \n",
       "$( document ).ready(code_toggle);\n",
       "</script>\n",
       "The raw code for this IPython notebook is by default hidden for easier reading/first acquintance.\n",
       "To switch on/off the raw code, click <a href=\"javascript:code_toggle()\">here</a>."
      ],
      "text/plain": [
       "<IPython.core.display.HTML object>"
      ]
     },
     "execution_count": 234,
     "metadata": {},
     "output_type": "execute_result"
    }
   ],
   "source": [
    "from IPython.display import HTML \n",
    "HTML('''<script>\n",
    "code_show=true; \n",
    "function code_toggle() {\n",
    " if (code_show){\n",
    " $('div.input').hide();\n",
    " } else {\n",
    " $('div.input').show();\n",
    " }\n",
    " code_show = !code_show\n",
    "} \n",
    "$( document ).ready(code_toggle);\n",
    "</script>\n",
    "The raw code for this IPython notebook is by default hidden for easier reading/first acquintance.\n",
    "To switch on/off the raw code, click <a href=\"javascript:code_toggle()\">here</a>.''') "
   ]
  },
  {
   "cell_type": "markdown",
   "metadata": {
    "toc": true
   },
   "source": [
    "<h1>Table of Contents<span class=\"tocSkip\"></span></h1>\n",
    "<div class=\"toc\"><ul class=\"toc-item\"><li><span><a href=\"#Reducing-Child-Mortality-in-the-Last-Mile:-Experimental-Evidence-on-Community-Health-Promoters-in-Uganda.-Replication-project.\" data-toc-modified-id=\"Reducing-Child-Mortality-in-the-Last-Mile:-Experimental-Evidence-on-Community-Health-Promoters-in-Uganda.-Replication-project.-1\">Reducing Child Mortality in the Last Mile: Experimental Evidence on Community Health Promoters in Uganda. Replication project.</a></span><ul class=\"toc-item\"><li><span><a href=\"#Brief-summary\" data-toc-modified-id=\"Brief-summary-1.1\">Brief summary</a></span></li><li><span><a href=\"#Introduction:-Child-Mortality-in-Uganda\" data-toc-modified-id=\"Introduction:-Child-Mortality-in-Uganda-1.2\">Introduction: Child Mortality in Uganda</a></span></li><li><span><a href=\"#I.-Intervention-and-Empirical-Design\" data-toc-modified-id=\"I.-Intervention-and-Empirical-Design-1.3\">I. Intervention and Empirical Design</a></span><ul class=\"toc-item\"><li><span><a href=\"#A.-The-Program\" data-toc-modified-id=\"A.-The-Program-1.3.1\">A. <em>The Program</em></a></span></li><li><span><a href=\"#C.-Study-Design-and-Participants\" data-toc-modified-id=\"C.-Study-Design-and-Participants-1.3.2\">C. <em>Study Design and Participants</em></a></span></li><li><span><a href=\"#D.-Randomization\" data-toc-modified-id=\"D.-Randomization-1.3.3\">D. <em>Randomization</em></a></span></li><li><span><a href=\"#E.-Outcomes\" data-toc-modified-id=\"E.-Outcomes-1.3.4\">E. <em>Outcomes</em></a></span></li><li><span><a href=\"#F.-Sample-Size\" data-toc-modified-id=\"F.-Sample-Size-1.3.5\">F. <em>Sample Size</em></a></span></li></ul></li><li><span><a href=\"#II.-Results\" data-toc-modified-id=\"II.-Results-1.4\">II. Results</a></span><ul class=\"toc-item\"><li><span><a href=\"#A.-Balance-at-Baseline\" data-toc-modified-id=\"A.-Balance-at-Baseline-1.4.1\">A. <em>Balance at Baseline</em></a></span></li><li><span><a href=\"#B.-Mortality-and-Morbidity\" data-toc-modified-id=\"B.-Mortality-and-Morbidity-1.4.2\">B. <em>Mortality and Morbidity</em></a></span></li><li><span><a href=\"#Table-3---Program-Impact-on-Child-Mortality\" data-toc-modified-id=\"Table-3---Program-Impact-on-Child-Mortality-1.4.3\">Table 3 - Program Impact on Child Mortality</a></span></li><li><span><a href=\"#Program-impact-on-the-Mortality-per-1,000-years-of-exposure\" data-toc-modified-id=\"Program-impact-on-the-Mortality-per-1,000-years-of-exposure-1.4.4\">Program impact on the Mortality per 1,000 years of exposure</a></span></li><li><span><a href=\"#Mortality-per-1000-births\" data-toc-modified-id=\"Mortality-per-1000-births-1.4.5\">Mortality per 1000 births</a></span></li><li><span><a href=\"#Table-4----Program-Impact-on-Child-Weight,-Height,-and-Hemoglobin-Levels\" data-toc-modified-id=\"Table-4----Program-Impact-on-Child-Weight,-Height,-and-Hemoglobin-Levels-1.4.6\">Table 4 -- Program Impact on Child Weight, Height, and Hemoglobin Levels</a></span></li><li><span><a href=\"#C.-Intermediate-Outcomes\" data-toc-modified-id=\"C.-Intermediate-Outcomes-1.4.7\">C. <em>Intermediate Outcomes</em></a></span></li><li><span><a href=\"#Table-5---Program-Impact-on-CHP-Interaction-and-Health-Knowledge\" data-toc-modified-id=\"Table-5---Program-Impact-on-CHP-Interaction-and-Health-Knowledge-1.4.8\">Table 5 - Program Impact on CHP Interaction and Health Knowledge</a></span></li><li><span><a href=\"#Table-6---Program-Impact-on-Preventive-and-Treatment-Services\" data-toc-modified-id=\"Table-6---Program-Impact-on-Preventive-and-Treatment-Services-1.4.9\">Table 6 - Program Impact on Preventive and Treatment Services</a></span></li></ul></li><li><span><a href=\"#III.-Discussion-and-extension\" data-toc-modified-id=\"III.-Discussion-and-extension-1.5\">III. Discussion and extension</a></span></li><li><span><a href=\"#V.-Conclusion\" data-toc-modified-id=\"V.-Conclusion-1.6\">V. Conclusion</a></span></li><li><span><a href=\"#Footnotes\" data-toc-modified-id=\"Footnotes-1.7\">Footnotes</a></span></li><li><span><a href=\"#References-and-Literature-used\" data-toc-modified-id=\"References-and-Literature-used-1.8\">References and Literature used</a></span></li></ul></li></ul></div>"
   ]
  },
  {
   "cell_type": "code",
   "execution_count": 240,
   "metadata": {},
   "outputs": [],
   "source": [
    "import numpy as np\n",
    "import pandas as pd\n",
    "import scipy as sp\n",
    "from scipy import stats\n",
    "from scipy.stats import ks_2samp\n",
    "from linearmodels import PanelOLS\n",
    "import statsmodels as sm\n",
    "import statsmodels.regression.linear_model as sm \n",
    "from statsmodels.api import add_constant \n",
    "import matplotlib.pyplot as plt \n",
    "from matplotlib import rcParams\n",
    "import seaborn as sns  \n",
    "\n",
    "#from sklearn.datasets import make_classification\n",
    "from sklearn.model_selection import train_test_split\n",
    "from sklearn.ensemble import RandomForestClassifier\n",
    "from yellowbrick.classifier import ClassPredictionError \n",
    "from sklearn.preprocessing import StandardScaler \n",
    "from sklearn.neighbors import KNeighborsClassifier \n",
    "from sklearn.metrics import confusion_matrix\n",
    "from sklearn.metrics import  f1_score\n",
    "from sklearn.metrics import accuracy_score\n",
    "\n",
    "pd.options.mode.chained_assignment = None "
   ]
  },
  {
   "cell_type": "code",
   "execution_count": 186,
   "metadata": {},
   "outputs": [
    {
     "name": "stdout",
     "output_type": "stream",
     "text": [
      "The rpy2.ipython extension is already loaded. To reload it, use:\n",
      "  %reload_ext rpy2.ipython\n"
     ]
    }
   ],
   "source": [
    "import rpy2.rinterface\n",
    "from rpy2.robjects import pandas2ri \n",
    "import rpy2.robjects as robjects \n",
    "%load_ext rpy2.ipython"
   ]
  },
  {
   "cell_type": "code",
   "execution_count": 3,
   "metadata": {},
   "outputs": [],
   "source": [
    "%%R\n",
    "library(tidyverse)\n",
    "library(ggplot2)\n",
    "library(foreign)\n",
    "library(Hmisc)\n",
    "library(ISOcodes)\n",
    "library(plyr)\n",
    "library(dplyr)\n",
    "library(zscorer)\n",
    "library(plm)\n",
    "library(glm2)\n",
    "library(IRkernel)\n",
    "IRkernel::installspec()\n",
    "options(scipen = 999)"
   ]
  },
  {
   "cell_type": "markdown",
   "metadata": {},
   "source": [
    "### Brief summary"
   ]
  },
  {
   "cell_type": "markdown",
   "metadata": {},
   "source": [
    "The main result after 3 years asserts that the program reduced under 5-years child mortality by 27 percent. "
   ]
  },
  {
   "cell_type": "markdown",
   "metadata": {},
   "source": [
    "###  Introduction: Child Mortality in Uganda \n",
    "\n",
    "<font size=\"2\">The paper addresses the problem of high child mortality in Uganda. Not only is it a fundamental threat to the society's well-being on its own, but also the problem is aggravated by the fact that many, if not most, of these deaths can be relatively easily prevented. The authors conduct a large-scale clustered randomized trial to evaluate the effect of a healthcare delivery program on child mortality. The study captures years 2011-2013. In randomly selected clusters (villages), a *Community Health Promoter (hereafter, CHP)* visited households and performed a range of healthcare delivery services. Some of these services included a pecuniary incentive for the CHP.<\\font> "
   ]
  },
  {
   "cell_type": "markdown",
   "metadata": {},
   "source": [
    "The paper starts with a general discussion on child mortality. In particular, the authors bring up the following facts:    \n",
    "\n",
    "**a) sub-Saharan Africa is a region heavily affected by child mortality. About 1 in 13 children in sub-Saharan Africa still die before his or her fifth birthday (WHO 2017) (155)    \n",
    "b) most of these deaths are easily preventable through simple inexpensive treatments delivered at home (155)**\n",
    "\n",
    "These statements are supported by WHO data. \n",
    "*Figure 1*[<sup>1</sup>](#fn1)  below shows that relative to other regions, sub-Saharan Africa and Southeast Asia are especially vulnerable in front of child mortality. WHO uses the following definition of *under-5 child mortality rate*: the probability of dying between birth and age 5 per 1000 live births. The map  groups countries into six (I-VI) categories by their child mortality rates in 2017, with I and VI representing countries with lowest and highest mortality rates respectively. Data preparation needed for Figures 1,2 is provided in the footnotes[<sup>1</sup>](#fn1). The maps were created and exported from R. "
   ]
  },
  {
   "cell_type": "markdown",
   "metadata": {},
   "source": [
    "**Figure 1: Mapping child mortality rates by countries (WHO, 2017):**"
   ]
  },
  {
   "cell_type": "code",
   "execution_count": 187,
   "metadata": {},
   "outputs": [
    {
     "data": {
      "image/png": "[encoded data removed]",
      "text/plain": [
       "<IPython.core.display.Image object>"
      ]
     },
     "execution_count": 187,
     "metadata": {},
     "output_type": "execute_result"
    }
   ],
   "source": [
    "from IPython.display import Image\n",
    "Image(filename='WHO_2017.png')  "
   ]
  },
  {
   "cell_type": "markdown",
   "metadata": {},
   "source": [
    "Country of interest: Uganda. Located in the heart of sub-Saharan Africa, Uganda's under-5 child mortality rate is around 49 deaths per 1000 live births, which places it into the 6th group (countries with the highest mortality rates)."
   ]
  },
  {
   "cell_type": "markdown",
   "metadata": {},
   "source": [
    "**Figure 2: Child mortality in Uganda (WHO, 2017):**"
   ]
  },
  {
   "cell_type": "code",
   "execution_count": 188,
   "metadata": {},
   "outputs": [
    {
     "data": {
      "image/png": "[encoded data removed]",
      "text/plain": [
       "<IPython.core.display.Image object>"
      ]
     },
     "execution_count": 188,
     "metadata": {},
     "output_type": "execute_result"
    }
   ],
   "source": [
    "Image(filename='Uganda.png')  "
   ]
  },
  {
   "cell_type": "markdown",
   "metadata": {},
   "source": [
    "The healthcare delivery program focuses on the role of the very basic health services and products to poor communities, where there exist critical challenges to provide such. Hence the big number of child  deaths that could have been prevented. Let's take a look at the main causes of child death in 2006, just before the launch of the program in 2007. "
   ]
  },
  {
   "cell_type": "code",
   "execution_count": 189,
   "metadata": {},
   "outputs": [
    {
     "data": {
      "text/html": [
       "<div>\n",
       "<style scoped>\n",
       "    .dataframe tbody tr th:only-of-type {\n",
       "        vertical-align: middle;\n",
       "    }\n",
       "\n",
       "    .dataframe tbody tr th {\n",
       "        vertical-align: top;\n",
       "    }\n",
       "\n",
       "    .dataframe thead th {\n",
       "        text-align: right;\n",
       "    }\n",
       "</style>\n",
       "<table border=\"1\" class=\"dataframe\">\n",
       "  <thead>\n",
       "    <tr style=\"text-align: right;\">\n",
       "      <th></th>\n",
       "      <th>Country</th>\n",
       "      <th>Number of child deaths</th>\n",
       "      <th>cause</th>\n",
       "      <th>age</th>\n",
       "      <th>year</th>\n",
       "      <th>Total number of child deaths</th>\n",
       "      <th>Proportion</th>\n",
       "    </tr>\n",
       "  </thead>\n",
       "  <tbody>\n",
       "    <tr>\n",
       "      <th>1</th>\n",
       "      <td>Uganda</td>\n",
       "      <td>0</td>\n",
       "      <td>Sepsis and other infectious conditions of the ...</td>\n",
       "      <td>1-59 months</td>\n",
       "      <td>2006</td>\n",
       "      <td>92677</td>\n",
       "      <td>0.000000</td>\n",
       "    </tr>\n",
       "    <tr>\n",
       "      <th>2</th>\n",
       "      <td>Uganda</td>\n",
       "      <td>1656</td>\n",
       "      <td>Prematurity</td>\n",
       "      <td>1-59 months</td>\n",
       "      <td>2006</td>\n",
       "      <td>92677</td>\n",
       "      <td>1.786851</td>\n",
       "    </tr>\n",
       "    <tr>\n",
       "      <th>3</th>\n",
       "      <td>Uganda</td>\n",
       "      <td>3446</td>\n",
       "      <td>Other noncommunicable diseases</td>\n",
       "      <td>1-59 months</td>\n",
       "      <td>2006</td>\n",
       "      <td>92677</td>\n",
       "      <td>3.718290</td>\n",
       "    </tr>\n",
       "    <tr>\n",
       "      <th>4</th>\n",
       "      <td>Uganda</td>\n",
       "      <td>9526</td>\n",
       "      <td>Other communicable, perinatal and nutritional ...</td>\n",
       "      <td>1-59 months</td>\n",
       "      <td>2006</td>\n",
       "      <td>92677</td>\n",
       "      <td>10.278710</td>\n",
       "    </tr>\n",
       "    <tr>\n",
       "      <th>5</th>\n",
       "      <td>Uganda</td>\n",
       "      <td>4846</td>\n",
       "      <td>Meningitis/encephalitis</td>\n",
       "      <td>1-59 months</td>\n",
       "      <td>2006</td>\n",
       "      <td>92677</td>\n",
       "      <td>5.228913</td>\n",
       "    </tr>\n",
       "    <tr>\n",
       "      <th>6</th>\n",
       "      <td>Uganda</td>\n",
       "      <td>275</td>\n",
       "      <td>Measles</td>\n",
       "      <td>1-59 months</td>\n",
       "      <td>2006</td>\n",
       "      <td>92677</td>\n",
       "      <td>0.296730</td>\n",
       "    </tr>\n",
       "    <tr>\n",
       "      <th>7</th>\n",
       "      <td>Uganda</td>\n",
       "      <td>29400</td>\n",
       "      <td>Malaria</td>\n",
       "      <td>1-59 months</td>\n",
       "      <td>2006</td>\n",
       "      <td>92677</td>\n",
       "      <td>31.723081</td>\n",
       "    </tr>\n",
       "    <tr>\n",
       "      <th>8</th>\n",
       "      <td>Uganda</td>\n",
       "      <td>9935</td>\n",
       "      <td>HIV/AIDS</td>\n",
       "      <td>1-59 months</td>\n",
       "      <td>2006</td>\n",
       "      <td>92677</td>\n",
       "      <td>10.720028</td>\n",
       "    </tr>\n",
       "    <tr>\n",
       "      <th>9</th>\n",
       "      <td>Uganda</td>\n",
       "      <td>12617</td>\n",
       "      <td>Diarrhoeal diseases</td>\n",
       "      <td>1-59 months</td>\n",
       "      <td>2006</td>\n",
       "      <td>92677</td>\n",
       "      <td>13.613950</td>\n",
       "    </tr>\n",
       "    <tr>\n",
       "      <th>10</th>\n",
       "      <td>Uganda</td>\n",
       "      <td>2891</td>\n",
       "      <td>Congenital anomalies</td>\n",
       "      <td>1-59 months</td>\n",
       "      <td>2006</td>\n",
       "      <td>92677</td>\n",
       "      <td>3.119436</td>\n",
       "    </tr>\n",
       "    <tr>\n",
       "      <th>11</th>\n",
       "      <td>Uganda</td>\n",
       "      <td>1324</td>\n",
       "      <td>Birth asphyxia and birth trauma</td>\n",
       "      <td>1-59 months</td>\n",
       "      <td>2006</td>\n",
       "      <td>92677</td>\n",
       "      <td>1.428618</td>\n",
       "    </tr>\n",
       "    <tr>\n",
       "      <th>12</th>\n",
       "      <td>Uganda</td>\n",
       "      <td>16761</td>\n",
       "      <td>Acute lower respiratory infections</td>\n",
       "      <td>1-59 months</td>\n",
       "      <td>2006</td>\n",
       "      <td>92677</td>\n",
       "      <td>18.085393</td>\n",
       "    </tr>\n",
       "  </tbody>\n",
       "</table>\n",
       "</div>"
      ],
      "text/plain": [
       "   Country  Number of child deaths  \\\n",
       "1   Uganda                       0   \n",
       "2   Uganda                    1656   \n",
       "3   Uganda                    3446   \n",
       "4   Uganda                    9526   \n",
       "5   Uganda                    4846   \n",
       "6   Uganda                     275   \n",
       "7   Uganda                   29400   \n",
       "8   Uganda                    9935   \n",
       "9   Uganda                   12617   \n",
       "10  Uganda                    2891   \n",
       "11  Uganda                    1324   \n",
       "12  Uganda                   16761   \n",
       "\n",
       "                                                cause          age  year  \\\n",
       "1   Sepsis and other infectious conditions of the ...  1-59 months  2006   \n",
       "2                                         Prematurity  1-59 months  2006   \n",
       "3                      Other noncommunicable diseases  1-59 months  2006   \n",
       "4   Other communicable, perinatal and nutritional ...  1-59 months  2006   \n",
       "5                             Meningitis/encephalitis  1-59 months  2006   \n",
       "6                                             Measles  1-59 months  2006   \n",
       "7                                             Malaria  1-59 months  2006   \n",
       "8                                            HIV/AIDS  1-59 months  2006   \n",
       "9                                 Diarrhoeal diseases  1-59 months  2006   \n",
       "10                               Congenital anomalies  1-59 months  2006   \n",
       "11                    Birth asphyxia and birth trauma  1-59 months  2006   \n",
       "12                 Acute lower respiratory infections  1-59 months  2006   \n",
       "\n",
       "    Total number of child deaths  Proportion  \n",
       "1                          92677    0.000000  \n",
       "2                          92677    1.786851  \n",
       "3                          92677    3.718290  \n",
       "4                          92677   10.278710  \n",
       "5                          92677    5.228913  \n",
       "6                          92677    0.296730  \n",
       "7                          92677   31.723081  \n",
       "8                          92677   10.720028  \n",
       "9                          92677   13.613950  \n",
       "10                         92677    3.119436  \n",
       "11                         92677    1.428618  \n",
       "12                         92677   18.085393  "
      ]
     },
     "execution_count": 189,
     "metadata": {},
     "output_type": "execute_result"
    }
   ],
   "source": [
    "#WHO data on causes of child death in Uganda in 2006\n",
    "sepsis = pd.read_csv(\"Uganda causes 2006/sepsis and other infectious conditions of the newborn.csv\")  \n",
    "sepsis['cause'] = 'Sepsis and other infectious conditions of the newborn'\n",
    "sepsis['age'] = \"1-59 months\" \n",
    "sepsis = sepsis.drop(sepsis.index[[0,1,2]]) \n",
    "sepsis = sepsis.rename(columns={\"Unnamed: 0\": \"Country\", \"2006\": \"Number of child deaths\"}) \n",
    "sepsis = sepsis.rename(index={3: \"1\"})\n",
    "\n",
    "prematurity = pd.read_csv(\"Uganda causes 2006/prematurity.csv\") \n",
    "prematurity['cause'] = 'Prematurity'\n",
    "prematurity['age'] = \"1-59 months\" \n",
    "prematurity = prematurity.drop(prematurity.index[[0,1,2]]) \n",
    "prematurity = prematurity.rename(columns={\"Unnamed: 0\": \"Country\", \"2006\": \"Number of child deaths\"}) \n",
    "prematurity = prematurity.rename(index={3: \"2\"})\n",
    "\n",
    "other = pd.read_csv(\"Uganda causes 2006/other noncommunicable diseases.csv\") \n",
    "other['cause'] = 'Other noncommunicable diseases' \n",
    "other['age'] = \"1-59 months\" \n",
    "other = other.drop(other.index[[0,1,2]]) \n",
    "other = other.rename(columns={\"Unnamed: 0\": \"Country\", \"2006\": \"Number of child deaths\"}) \n",
    "other = other.rename(index={3: \"3\"}) \n",
    "\n",
    "other_2 = pd.read_csv(\"Uganda causes 2006/other communicable perinatal and nutritious conditions.csv\") \n",
    "other_2['cause'] = 'Other communicable, perinatal and nutritional conditions' \n",
    "other_2['age'] = \"1-59 months\"  \n",
    "other_2 = other_2.drop(other_2.index[[0,1,2]]) \n",
    "other_2 = other_2.rename(columns={\"Unnamed: 0\": \"Country\", \"2006\": \"Number of child deaths\"}) \n",
    "other_2 = other_2.rename(index={3: \"4\"}) \n",
    "\n",
    "meningitis = pd.read_csv(\"Uganda causes 2006/meningitis encephalitis.csv\") \n",
    "meningitis['cause'] = 'Meningitis/encephalitis' \n",
    "meningitis['age'] = \"1-59 months\"  \n",
    "meningitis = meningitis.drop(meningitis.index[[0,1,2]]) \n",
    "meningitis = meningitis.rename(columns={\"Unnamed: 0\": \"Country\", \"2006\": \"Number of child deaths\"}) \n",
    "meningitis = meningitis.rename(index={3: \"5\"}) \n",
    "\n",
    "measles = pd.read_csv(\"Uganda causes 2006/measles.csv\") \n",
    "measles['cause'] = 'Measles'\n",
    "measles['age'] = \"1-59 months\"  \n",
    "measles = measles.drop(measles.index[[0,1,2]]) \n",
    "measles = measles.rename(columns={\"Unnamed: 0\": \"Country\", \"2006\": \"Number of child deaths\"}) \n",
    "measles = measles.rename(index={3: \"6\"})  \n",
    "\n",
    "malaria =  pd.read_csv(\"Uganda causes 2006/malaria.csv\") \n",
    "malaria['cause'] = 'Malaria'\n",
    "malaria['age'] = \"1-59 months\"  \n",
    "malaria = malaria.drop(malaria.index[[0,1,2]]) \n",
    "malaria = malaria.rename(columns={\"Unnamed: 0\": \"Country\", \"2006\": \"Number of child deaths\"}) \n",
    "malaria = malaria.rename(index={3: \"7\"})   \n",
    "\n",
    "aids = pd.read_csv(\"Uganda causes 2006/hiv aids.csv\") \n",
    "aids['cause'] = 'HIV/AIDS'\n",
    "aids['age'] = \"1-59 months\"  \n",
    "aids = aids.drop(aids.index[[0,1,2]]) \n",
    "aids = aids.rename(columns={\"Unnamed: 0\": \"Country\", \"2006\": \"Number of child deaths\"}) \n",
    "aids = aids.rename(index={3: \"8\"}) \n",
    "\n",
    "diarrhea = pd.read_csv(\"Uganda causes 2006/diarrhoeal diseases.csv\") \n",
    "diarrhea['cause'] = 'Diarrhoeal diseases'\n",
    "diarrhea['age'] = \"1-59 months\"  \n",
    "diarrhea = diarrhea.drop(diarrhea.index[[0,1,2]]) \n",
    "diarrhea = diarrhea.rename(columns={\"Unnamed: 0\": \"Country\", \"2006\": \"Number of child deaths\"}) \n",
    "diarrhea = diarrhea.rename(index={3: \"9\"})   \n",
    "\n",
    "congenital = pd.read_csv(\"Uganda causes 2006/congenital anomalities.csv\") \n",
    "congenital['cause'] = 'Congenital anomalies'\n",
    "congenital['age'] = \"1-59 months\"  \n",
    "congenital = congenital.drop(congenital.index[[0,1,2]]) \n",
    "congenital = congenital.rename(columns={\"Unnamed: 0\": \"Country\", \"2006\": \"Number of child deaths\"}) \n",
    "congenital = congenital.rename(index={3: \"10\"})  \n",
    "\n",
    "asphyxia = pd.read_csv(\"Uganda causes 2006/birth asphyxia and birth trauma.csv\")  \n",
    "asphyxia['cause'] = 'Birth asphyxia and birth trauma'\n",
    "asphyxia['age'] = \"1-59 months\"  \n",
    "asphyxia = asphyxia.drop(asphyxia.index[[0,1,2]]) \n",
    "asphyxia = asphyxia.rename(columns={\"Unnamed: 0\": \"Country\", \"2006\": \"Number of child deaths\"}) \n",
    "asphyxia = asphyxia.rename(index={3: \"11\"})  \n",
    "\n",
    "respiratory = pd.read_csv(\"Uganda causes 2006/acute lower respiratory infections.csv\") \n",
    "respiratory['cause'] = 'Acute lower respiratory infections'\n",
    "respiratory['age'] = \"1-59 months\"  \n",
    "respiratory = respiratory.drop(respiratory.index[[0,1,2]]) \n",
    "respiratory = respiratory.rename(columns={\"Unnamed: 0\": \"Country\", \"2006\": \"Number of child deaths\"}) \n",
    "respiratory = respiratory.rename(index={3: \"12\"}) \n",
    "\n",
    "frames = [sepsis, prematurity, other, other_2, meningitis, measles,\n",
    "          malaria, aids, diarrhea, congenital, asphyxia, respiratory] \n",
    "df = pd.concat(frames)\n",
    "df['year'] = 2006 \n",
    "df['Number of child deaths']=df['Number of child deaths'].astype(int) \n",
    "df['Total number of child deaths'] = df['Number of child deaths'].iloc[1:12].sum(axis=0) \n",
    "df['Proportion'] = (df['Number of child deaths']/df['Total number of child deaths']) * 100\n",
    "\n",
    "df.head(13)"
   ]
  },
  {
   "cell_type": "code",
   "execution_count": 190,
   "metadata": {},
   "outputs": [
    {
     "data": {
      "image/png": "[encoded data removed]",
      "text/plain": [
       "<Figure size 864x432 with 1 Axes>"
      ]
     },
     "metadata": {},
     "output_type": "display_data"
    }
   ],
   "source": [
    "causes = 'Sepsis', 'Prematuriry', 'Other noncommunicable diseases', 'Other communicable, perinatal and nutritional conditions', 'Meningitis/encephalitis', 'Measles', 'Malaria','HIV/AIDS','Diarrhoeal diseases', 'Congenital anomalies', 'Birth asphyxia and birth trauma','Acute lower respiratoty infections'    \n",
    "sizes = df['Proportion']\n",
    "explode = (0,0,0,0.2,0,0,0.2,0,0.2,0,0,0.3) \n",
    "fig1, ax1 = plt.subplots(figsize=(12, 6)) \n",
    "colors = ['black','darkseagreen', 'powderblue', 'moccasin', 'gold', 'cyan', 'plum', 'aquamarine', 'teal',\n",
    "          'yellowgreen', 'lime', 'lightcoral']\n",
    "ax1.pie(sizes, explode=explode, autopct='%1.1f%%',\n",
    "        shadow=True, startangle=90, colors = colors,\n",
    "        pctdistance=1.2, labeldistance=10) \n",
    "ax1.set_title(r'Figure 3: Major causes of child mortality in Uganda, 2006', fontsize = 14, fontweight = 'bold')\n",
    "ax1.legend(causes,\n",
    "          title=\"Causes\",\n",
    "          loc=\"center left\",\n",
    "          bbox_to_anchor=(1, 0, 0.5, 1)) \n",
    "ax1.axis('equal')  \n",
    "plt.show()"
   ]
  },
  {
   "cell_type": "markdown",
   "metadata": {},
   "source": [
    "The major causes of child death are the notorious malaria, pneumonia and the like, diarrhea, and other communicable, perinatal, and nutritional conditions of the newborn. Many of these can be easily prevented through awareness, vaccinization, better sanitation, nutrition, and water quality. Failure to deliver these basics to households led to the launch of a novel health delivery program recruiting CHPs 2007."
   ]
  },
  {
   "cell_type": "markdown",
   "metadata": {},
   "source": [
    "### I. Intervention and Empirical Design"
   ]
  },
  {
   "cell_type": "markdown",
   "metadata": {},
   "source": [
    "#### A. *The Program* "
   ]
  },
  {
   "cell_type": "markdown",
   "metadata": {},
   "source": [
    "The health delivery program is facilitated by \"*Avon-like\" networks of door-to-door mobile CHPs* (156). Unlike previous healthcare programs, the CHP program was designed with financial incentives for the promoter. The incentives are the margin from selling *low-cost, high-impact health products and basic newborn and child health services* (157). The program operates in geographically based branches. Each CHP was assigned a cluster, which in most cases coincides with a village. The program has been going on since 2007 and covers more and more regions every year, but this study is restricted to evalute the program impact by 2013.  \n",
    "The CHPs were recruited through a competitve selection among women aged 18-45 with basic writing and math skills. Then they participated in a two-week-training to acquire the necessary knowledge for delivering basic health products and services for newborns and children. The authors didn't provide data on CHPs for replication, but based on *Table A2 in the Appendix*, we see that an average CHP knows approximately half of the symptoms of malaria, diarrhea, pregnancy, they are also informed to a limited extent on other maternal/neonatal issues. While being obvious non-medical specialists, CHPs are able to deliver basic healthcare to households. The responsibilities born by the CHPs include, but are not limited to:   \n",
    "\n",
    " - visit households with children under 5 years old;   \n",
    " - provide basic education on healthcare/self-care essentials;  \n",
    " - provide basic medical advice and refer the severe cases to specialists; \n",
    " - recognize symptoms of common diseases (e.g. malaria, diarrhea) and sell the needed curative products; \n",
    " - sell products and drugs for preventive measures (e.g. bed mosquito nets to prevent malaria, water purifying tablets,  vitamins); \n",
    " - the CHPs also received a modest financial reward for registering pregnant women and visiting newborns ($0.65 per registration/visit) (159). \n",
    "           \n",
    "\n",
    "The program allowed CHPs make profits from selling preventive/curative health products.Thus,CHPs acted as *micro-entrepreneurs with pecuniary incentives to improve child health* (157).      "
   ]
  },
  {
   "cell_type": "markdown",
   "metadata": {},
   "source": [
    "<font size=\"2\"> Section \"B.Comparison with Traditional Community Health Workers and Related Literature\" was skipped.</font>"
   ]
  },
  {
   "cell_type": "markdown",
   "metadata": {},
   "source": [
    "#### C. *Study Design and Participants* "
   ]
  },
  {
   "cell_type": "markdown",
   "metadata": {},
   "source": [
    "The study was a parallel group, stratified cluster randomized controlled trial. 214 clusters(villages) participated. The clusters are spread across 12 geographical zones in Uganda.Each zone was linked to a different branch. Within each zone clusters were randomly split into treatment and control groups. In 11 zones the randomization was balanced (1:1), in one zone - unbalanced (2:1), thus, treatment group includes 16 more villages(clusters) than the control group. Authors report 237 as the average number of households per cluster, in my calculations the average is 235.5 households (taking into account all the study units, i.e.  treatment and control villages). I think the difference comes from how we handle rounding in calculations. The baseline characteristics of clusters are replicated in section [II.A. *Balance at Baseline*](#A.-*Balance-at-Baseline*).   \n",
    "The question of interest was to evaluate the effect of the health delivery program on child health. In particular, child mortality and indicators of child health were the main outcomes of interest. Other issues addressed include the impact of the program on healthcare related issues, for instance, awareness, household behaviours, etc. \n",
    "The data on the outcomes were collected through a cross-sectional household survey that took place between September and December 2013, approximately 3 years later after the program was started in the treated villages. In each village(cluster) 40 randomly chosen households were surveyed. In small clusters with fewer than 40 households all were chosen for the survey. The study is based on a sample of 7018 households and their 11563 under 5-years children. These are the households that stayed in the same village thruought the trial. Households that migrated in/out of their cluster during the evaluation period were not included in the analysis. The respondent was the female head/primary female health care provider in the household. Households where females were not available for the interview were replaced with another household. Data collectors didnot know whether they were interviewing in a treatment or control villages. The paper doesn't state it explicitly, but data collectors and CHPs are different sets of people. The CHPs were not aware of the treatment status they were operating in either.    \n",
    "\n",
    "All households with children under five could be exposed to visits by the CHPs. The CHPs were not forbidden to perform their services in clusters they were not assigned to, including control clusters, though, it was generally recommended to focus on their assigned villages. Households in the control villages and villages that didnot participate in the trial at all could also go to a treated village to visit a CHP. I think the potential interaction of treated and control clusters and the consequent possibility of indirect exposure to the treatment of control clusters can blur the estimation of the program impact. I address the question whether this feature of the study design could pose a challenge for parameter estimation in the [*Extension*](#Extension*). "
   ]
  },
  {
   "cell_type": "markdown",
   "metadata": {},
   "source": [
    "#### D. *Randomization*"
   ]
  },
  {
   "cell_type": "markdown",
   "metadata": {},
   "source": [
    "Following the gradual expansion of the CHP program, randomization of clusters occured in stages and took a few years. It started in 2009 with a sample of 200 villages in 10 geographical zones covering 8 districts. These 200 villages were stratified by zone and size (cutoff size: 400 households). Within each staratum half of the villages were randomly assigned to receive treatment and the other half didnot. The random assignment was simple and used a random numbers generating procedure. In 2010 a decision was made to subset the initial villages to include only the villages with fewer than 400 households. The reasoning was that the researchers didnot want to assign a treatment status to a large cluster where only a minority of households were visited by CHPs. This decision resulted in the exclusion of 94 large clusters(47 treatment and 47 control). At the end of 2010 60 new villages were added. 30 of the new villages were assigned to the treatment group, the rest 30 - to the control. In the beginning of 2011 an additional zone with 48 villages(clusters)  was added. Unbalanced split was performed in the final zone, with 2/3 of 48, hence 32, villages being allocated to the treatment group, and 1/3 (16 villages) -to the control group.   \n",
    "The abovementioned phases of randomization produced a final sample of 214 clusters, out of which 115 were treated and 99 controls."
   ]
  },
  {
   "cell_type": "markdown",
   "metadata": {},
   "source": [
    "#### E. *Outcomes*"
   ]
  },
  {
   "cell_type": "markdown",
   "metadata": {},
   "source": [
    "While this impact evaluation assesses the effect of the program on a set of child health outcomes as well as other health related results, the primary outcome of the study is under-five mortality rate. Secondary outcomes are infant mortality rate and neonatal mortality rate. To note, thruought this project any mention of a \"child\" or \"children\" without age information means a child/children younger than 5 years/60 months, \"infant(s)\" is applied to babies under 1 year of age, and \"neonatal\" refers to babies during their first month of life. It is important to spend some time elaborating on the measures of child mortality. As mentioned introduction, WHO uses the following definition of under-5 child mortality rate: the probability of dying between birth and age 5 per 1000 live births. However, WHO uses data collected over a long period of time to compute mortality as probability, this condition is not met in the circumstances and design of the study (165). Therefore, when data has been collected for a relatively short period of time (3 years), child mortality is better be computed as a ratio and expressed in terms of years of exposure (165). Months of exposure to the risk of dying before 5 is basically the difference between the birthdate of the child  and the date of the child's fifth birthday if the child turned 5 years during the trial (2011-2013). If the child was born before the trial his/her birth date was replaced with the start day of the program. If the child does not turn 5 during the trial, his/her fifth birthday date is replaced with the date of the household  interview. Under-5 mortality was then computed as number of under-5 deaths per 1000 child-years of exposure. Infant and neonatal mortality rates were computed in a similar fashion. "
   ]
  },
  {
   "cell_type": "markdown",
   "metadata": {},
   "source": [
    "#### F. *Sample Size* "
   ]
  },
  {
   "cell_type": "markdown",
   "metadata": {},
   "source": [
    "The sample size was constructed to capture a reduction in overall child mortality. As a pretrial under-5 mortality rate they reference 18 deaths per 1000 child-years."
   ]
  },
  {
   "cell_type": "markdown",
   "metadata": {},
   "source": [
    "### II. Results "
   ]
  },
  {
   "cell_type": "markdown",
   "metadata": {},
   "source": [
    "#### A. *Balance at Baseline*\n",
    "Assignment procedure: a randomized trial (simple randomization). To see whether the randomization is well-balanced, we compare the means of the subjects' pretrial covariates."
   ]
  },
  {
   "cell_type": "code",
   "execution_count": 191,
   "metadata": {},
   "outputs": [
    {
     "data": {
      "text/html": [
       "<div>\n",
       "<style scoped>\n",
       "    .dataframe tbody tr th:only-of-type {\n",
       "        vertical-align: middle;\n",
       "    }\n",
       "\n",
       "    .dataframe tbody tr th {\n",
       "        vertical-align: top;\n",
       "    }\n",
       "\n",
       "    .dataframe thead th {\n",
       "        text-align: right;\n",
       "    }\n",
       "</style>\n",
       "<table border=\"1\" class=\"dataframe\">\n",
       "  <thead>\n",
       "    <tr style=\"text-align: right;\">\n",
       "      <th>treatment</th>\n",
       "      <th>0</th>\n",
       "      <th>1</th>\n",
       "    </tr>\n",
       "  </thead>\n",
       "  <tbody>\n",
       "    <tr>\n",
       "      <th>Households per cluster mean</th>\n",
       "      <td>221.1</td>\n",
       "      <td>249.8</td>\n",
       "    </tr>\n",
       "    <tr>\n",
       "      <th>Mean standard deviation</th>\n",
       "      <td>107.0</td>\n",
       "      <td>112.8</td>\n",
       "    </tr>\n",
       "    <tr>\n",
       "      <th>Households with under-5 children per cluster mean</th>\n",
       "      <td>78.0</td>\n",
       "      <td>86.5</td>\n",
       "    </tr>\n",
       "    <tr>\n",
       "      <th>Mean standard deviation</th>\n",
       "      <td>45.7</td>\n",
       "      <td>47.0</td>\n",
       "    </tr>\n",
       "    <tr>\n",
       "      <th>Distance to main road mean</th>\n",
       "      <td>6.8</td>\n",
       "      <td>5.6</td>\n",
       "    </tr>\n",
       "    <tr>\n",
       "      <th>Mean standard deviation</th>\n",
       "      <td>12.7</td>\n",
       "      <td>11.6</td>\n",
       "    </tr>\n",
       "    <tr>\n",
       "      <th>Distance to electricity translission line mean</th>\n",
       "      <td>1.8</td>\n",
       "      <td>1.8</td>\n",
       "    </tr>\n",
       "    <tr>\n",
       "      <th>Mean standard deviation</th>\n",
       "      <td>1.5</td>\n",
       "      <td>1.5</td>\n",
       "    </tr>\n",
       "    <tr>\n",
       "      <th>Distance to health center mean</th>\n",
       "      <td>1.7</td>\n",
       "      <td>1.4</td>\n",
       "    </tr>\n",
       "    <tr>\n",
       "      <th>Mean standard deviation</th>\n",
       "      <td>1.2</td>\n",
       "      <td>1.1</td>\n",
       "    </tr>\n",
       "    <tr>\n",
       "      <th>Number of health centers within 5 km mean</th>\n",
       "      <td>7.3</td>\n",
       "      <td>8.3</td>\n",
       "    </tr>\n",
       "    <tr>\n",
       "      <th>Mean standard deviation</th>\n",
       "      <td>5.2</td>\n",
       "      <td>5.0</td>\n",
       "    </tr>\n",
       "    <tr>\n",
       "      <th>Distance to hospital mean</th>\n",
       "      <td>11.1</td>\n",
       "      <td>10.4</td>\n",
       "    </tr>\n",
       "    <tr>\n",
       "      <th>Mean standard deviation</th>\n",
       "      <td>8.5</td>\n",
       "      <td>8.5</td>\n",
       "    </tr>\n",
       "  </tbody>\n",
       "</table>\n",
       "</div>"
      ],
      "text/plain": [
       "treatment                                              0      1\n",
       "Households per cluster mean                        221.1  249.8\n",
       "Mean standard deviation                            107.0  112.8\n",
       "Households with under-5 children per cluster mean   78.0   86.5\n",
       "Mean standard deviation                             45.7   47.0\n",
       "Distance to main road mean                           6.8    5.6\n",
       "Mean standard deviation                             12.7   11.6\n",
       "Distance to electricity translission line mean       1.8    1.8\n",
       "Mean standard deviation                              1.5    1.5\n",
       "Distance to health center mean                       1.7    1.4\n",
       "Mean standard deviation                              1.2    1.1\n",
       "Number of health centers within 5 km mean            7.3    8.3\n",
       "Mean standard deviation                              5.2    5.0\n",
       "Distance to hospital mean                           11.1   10.4\n",
       "Mean standard deviation                              8.5    8.5"
      ]
     },
     "execution_count": 191,
     "metadata": {},
     "output_type": "execute_result"
    }
   ],
   "source": [
    "baseline = pd.read_csv(\"AEJ2018_HHmain.csv\")\n",
    "baseline.index.set_names(\"Household\", inplace = True)\n",
    "pretrial_covariates = [\"village_hhs_baseline\", \"village_hhsu5_baseline\", \"village_distance_road\",\n",
    "                      \"village_distance_electricity\", \"village_distance_HF\",\"village_HF_within5km\",\n",
    "                      \"village_distance_HOSP\"]\n",
    "summary_statistics = baseline.groupby([\"treatment\", \"villageid\", \"branchid\"])[pretrial_covariates].mean()\n",
    "summary_statistics = summary_statistics.groupby(\"treatment\", as_index = False).agg(['mean', 'std'])\n",
    "summary_statistics.columns = [\"Households per cluster mean\",\"Mean standard deviation\",\n",
    "                              \"Households with under-5 children per cluster mean\", \"Mean standard deviation\",\n",
    "                              \"Distance to main road mean\", \"Mean standard deviation\",\n",
    "                              \"Distance to electricity translission line mean\", \"Mean standard deviation\",\n",
    "                              \"Distance to health center mean\",\"Mean standard deviation\",\n",
    "                              \"Number of health centers within 5 km mean\",\"Mean standard deviation\",\n",
    "                              \"Distance to hospital mean\",\"Mean standard deviation\"]\n",
    "summary_statistics = summary_statistics.round(decimals=1)\n",
    "summary_statistics.T"
   ]
  },
  {
   "cell_type": "code",
   "execution_count": 236,
   "metadata": {
    "scrolled": true
   },
   "outputs": [
    {
     "data": {
      "image/png": "[encoded data removed]",
      "text/plain": [
       "<Figure size 1008x432 with 7 Axes>"
      ]
     },
     "metadata": {},
     "output_type": "display_data"
    }
   ],
   "source": [
    "pretrials = baseline[[\"treatment\", \"village_hhs_baseline\", \"village_hhsu5_baseline\", \"village_distance_road\",\n",
    "                      \"village_distance_electricity\", \"village_distance_HF\",\"village_HF_within5km\",\n",
    "                      \"village_distance_HOSP\" ]] \n",
    "pretrials_treated = pretrials[pretrials.treatment == 1] \n",
    "pretrials_control = pretrials[pretrials.treatment == 0]\n",
    "# Setting the weights for normalization \n",
    "x1 = pretrials_treated['village_hhs_baseline']\n",
    "x1_w = np.empty(x1.shape) \n",
    "x1_w.fill(1/x1.shape[0]) \n",
    "x2 = pretrials_control['village_hhs_baseline']\n",
    "x2_w = np.empty(x2.shape) \n",
    "x2_w.fill(1/x2.shape[0])\n",
    "\n",
    "x3 = pretrials_treated['village_hhsu5_baseline']\n",
    "x3_w = np.empty(x3.shape) \n",
    "x3_w.fill(1/x3.shape[0])\n",
    "x4 = pretrials_control['village_hhsu5_baseline'] \n",
    "x4_w = np.empty(x4.shape) \n",
    "x4_w.fill(1/x4.shape[0])\n",
    "\n",
    "x5 = pretrials_treated['village_distance_road'] \n",
    "x5_w = np.empty(x5.shape) \n",
    "x5_w.fill(1/x5.shape[0])\n",
    "x6 = pretrials_control['village_distance_road']\n",
    "x6_w = np.empty(x6.shape) \n",
    "x6_w.fill(1/x6.shape[0])\n",
    "\n",
    "x7 = pretrials_treated['village_distance_electricity'] \n",
    "x7_w = np.empty(x7.shape) \n",
    "x7_w.fill(1/x7.shape[0])\n",
    "x8 = pretrials_control['village_distance_electricity'] \n",
    "x8_w = np.empty(x8.shape) \n",
    "x8_w.fill(1/x8.shape[0])\n",
    "\n",
    "x9 = pretrials_treated['village_distance_HF'] \n",
    "x9_w = np.empty(x9.shape) \n",
    "x9_w.fill(1/x9.shape[0])\n",
    "x10 = pretrials_control['village_distance_HF'] \n",
    "x10_w = np.empty(x10.shape) \n",
    "x10_w.fill(1/x10.shape[0])\n",
    "\n",
    "x11 = pretrials_treated['village_HF_within5km'] \n",
    "x11_w = np.empty(x11.shape) \n",
    "x11_w.fill(1/x11.shape[0])\n",
    "x12 = pretrials_control['village_HF_within5km']  \n",
    "x12_w = np.empty(x12.shape) \n",
    "x12_w.fill(1/x12.shape[0])\n",
    "\n",
    "x13 = pretrials_treated['village_distance_HOSP']  \n",
    "x13_w = np.empty(x13.shape) \n",
    "x13_w.fill(1/x13.shape[0])\n",
    "x14 = pretrials_control['village_distance_HOSP'] \n",
    "x14_w = np.empty(x14.shape) \n",
    "x14_w.fill(1/x14.shape[0]) \n",
    "\n",
    "# Plotting \n",
    "fig, axs = plt.subplots(1,7, figsize = (14,6), sharey = False)\n",
    "\n",
    "axs[0].hist(x1, bins = 15, weights = x1_w, label = 'treated', color = \"lightcoral\",\n",
    "            density = True, alpha = 0.6) \n",
    "axs[0].hist(x2, bins = 15, weights = x2_w, label = 'control', color = \"mediumspringgreen\",\n",
    "            density = True, alpha = 0.4) \n",
    "axs[0].set_title(r'I') \n",
    "\n",
    "axs[1].hist(x3, bins = 15, weights = x3_w, label = 'treated', color = \"lightcoral\",\n",
    "            density = True, alpha = 0.6) \n",
    "axs[1].hist(x4, bins = 15, weights = x4_w, label = 'control', color = \"mediumspringgreen\",\n",
    "            density = True, alpha = 0.4) \n",
    "axs[1].set_title(r'II') \n",
    "\n",
    "axs[2].hist(x5, bins = 15, weights = x5_w, label = 'treated', color = \"lightcoral\",\n",
    "            density = True, alpha = 0.6) \n",
    "axs[2].hist(x6, bins = 15, weights = x6_w, label = 'control', color = \"mediumspringgreen\",\n",
    "            density = True, alpha = 0.4) \n",
    "axs[2].set_title(r'III')\n",
    "\n",
    "axs[3].hist(x7, bins = 15, weights = x7_w, label = 'treated', color = \"lightcoral\",\n",
    "            density = True, alpha = 0.6) \n",
    "axs[3].hist(x8, bins = 15, weights = x8_w, label = 'control', color = \"mediumspringgreen\",\n",
    "            density = True, alpha = 0.4) \n",
    "axs[3].set_title(r'IV') \n",
    "\n",
    "axs[4].hist(x9, bins = 15, weights = x9_w, label = 'treated',color = \"lightcoral\",\n",
    "            density = True, alpha = 0.6) \n",
    "axs[4].hist(x10, bins = 15, weights = x10_w, label = 'control', color = \"mediumspringgreen\",\n",
    "            density = True, alpha = 0.4) \n",
    "axs[4].set_title(r'V') \n",
    "\n",
    "axs[5].hist(x11, bins = 15, weights = x11_w, label = 'treated', color = \"lightcoral\",\n",
    "            density = True, alpha = 0.6) \n",
    "axs[5].hist(x12, bins = 15, weights = x12_w, label = 'control', color = \"mediumspringgreen\",\n",
    "            density = True, alpha = 0.4) \n",
    "axs[5].set_title(r'VI')\n",
    "\n",
    "axs[6].hist(x13, bins = 15, weights = x13_w, label = 'treated', color = \"lightcoral\",\n",
    "            density = True, alpha = 0.6) \n",
    "axs[6].hist(x14, bins = 15, weights = x14_w, label = 'control', color = \"mediumspringgreen\",\n",
    "            density = True, alpha = 0.4) \n",
    "axs[6].set_title(r'VII')\n",
    "\n",
    "fig.suptitle(r'Figure 4: Normalized distributions of baseline characteristics in the treated and control clusters',\n",
    "             fontsize = 14, fontweight = 'bold', y=1.05)\n",
    "plt.legend(bbox_to_banchor=(0.5, 0.5, 1, 0.5))\n",
    "plt.tight_layout()\n",
    "plt.show()  "
   ]
  },
  {
   "cell_type": "markdown",
   "metadata": {},
   "source": [
    "<font size=\"2\">Figure 4: (I) Household per cluster; (II) Households with under 5 children per cluster; (III) Distance to main road; (IV) Distance to electricity transmission line; (V) Distance to health centre; (VI)Number of health centers within 5 km.</font>"
   ]
  },
  {
   "cell_type": "markdown",
   "metadata": {},
   "source": [
    "*Figure 3* illustrates that all the pretreatment characteristics are similarly distributed in the treated and control clusters - providing grounds for the claim that the two groups represent the same population.    \n",
    "\n",
    "**Kolmogorov-Smirnov two-sample test**   \n",
    "\n",
    "In the paper the authors ran a series of linear regressions to show that the differences in means for all pretrial cluster characteristics in both samples are not statistically significant. Pursuing the same purpose, I performed a two-sample Kolmogorov-Smirnov test. The choice of this non-parametric test is inspired with *Figure 3* and is an attempt to avoid making a common assumption on the shapes of the underlying distributions of the pretrial features."
   ]
  },
  {
   "cell_type": "code",
   "execution_count": 193,
   "metadata": {},
   "outputs": [
    {
     "name": "stdout",
     "output_type": "stream",
     "text": [
      "treatment   1.000\n",
      "village_hhs_baseline   1.000\n",
      "village_hhsu5_baseline   1.000\n",
      "village_distance_road   1.000\n",
      "village_distance_electricity   1.000\n",
      "village_distance_HF   1.000\n",
      "village_HF_within5km   1.000\n",
      "village_distance_HOSP   1.000\n"
     ]
    }
   ],
   "source": [
    "for column in pretrials: \n",
    "    treated = pretrials[pretrials.treatment == 1][column] \n",
    "    control = pretrials[pretrials.treatment == 0][column] \n",
    "    stat = ks_2samp(treated, control)[1] \n",
    "    \n",
    "    print(f\"{column} {stat:7.3f}\")  "
   ]
  },
  {
   "cell_type": "markdown",
   "metadata": {},
   "source": [
    "We fail to reject the null hypothesis, i.e. that the control and treated groups come from the same population. "
   ]
  },
  {
   "cell_type": "markdown",
   "metadata": {},
   "source": [
    "Additional evidence to support that treatment assignment among the clusters was well-balanced is that there is no association (*linear correlation coefficient $\\geq$ 0.5*) between the treatment status and any of the baseline characteristics, which invalidates them as candidates for controls in regressions that follow. "
   ]
  },
  {
   "cell_type": "code",
   "execution_count": 194,
   "metadata": {},
   "outputs": [
    {
     "data": {
      "image/png": "[encoded data removed]",
      "text/plain": [
       "<Figure size 576x432 with 2 Axes>"
      ]
     },
     "metadata": {},
     "output_type": "display_data"
    }
   ],
   "source": [
    "plt.figure(figsize=(8,6)) \n",
    "cor = pretrials.corr() \n",
    "labels = [\"treatment\", \"Households per cluster\", \"Households with under-5 children per cluster\", \n",
    "                              \"Distance to main road\", \n",
    "                              \"Distance to electricity translission line\", \n",
    "                              \"Distance to health center\",\n",
    "                              \"Number of health centers within 5 km\",\n",
    "                              \"Distance to hospital\",]\n",
    "ax = sns.heatmap(cor, annot = True, cmap=plt.cm.Greens) \n",
    "ax.set_xticklabels(labels,fontsize=10)\n",
    "ax.set_yticklabels(labels,fontsize=10)\n",
    "rcParams['axes.titlepad'] = 25 # space between the title and the matrix\n",
    "ax.set_title(r'Figure 5: Correlation matrix of pretreatment characteristics and treatment assignment',\n",
    "             fontsize = 14, fontweight = 'bold')\n",
    "plt.show()"
   ]
  },
  {
   "cell_type": "markdown",
   "metadata": {},
   "source": [
    "#### B. *Mortality and Morbidity*  "
   ]
  },
  {
   "cell_type": "markdown",
   "metadata": {},
   "source": [
    "The main outcome of interest is reduction in child mortality. The main causes of child mortality are shown in *Figure 3*. Jones et al. (2003) suggests 21 effective measures, both preventive and curative, to address these causes that are feasible to implement on a large scale in the developing world. The paper considers 9 of these measures. \n",
    "\n",
    "**6 prevention measures**    \n",
    " - breastfeeding   \n",
    " - clean delivery  \n",
    " - newborn management  \n",
    " - vitamin A intake \n",
    " - vaccination \n",
    " - clean water \n",
    " - insecticide-treated bed net \n",
    "\n",
    "**2 curative measures** \n",
    " - oral rehydration therapy to treat dirrhea \n",
    " - anti-malarials (ACT). \n",
    " \n",
    "The effects of each of these 9 measures is summarised in *Table 6*.  "
   ]
  },
  {
   "cell_type": "markdown",
   "metadata": {},
   "source": [
    "The paper starts with its main result presented in *Table 3*. *Table 3* shows the impact of the program for different measures of child mortality. "
   ]
  },
  {
   "cell_type": "markdown",
   "metadata": {},
   "source": [
    "Since this study is a randomized controlled trial, it avoids lots of challenges for causal inference. The setting also enjoys a benevolent homogeneity of clusters in their observables. However, I believe there is one small caveat of the study design, in particular, villages(clusters) constitute a form of a social network, thus as trial units they are not independent. I move this to discussion.  \n",
    "\n",
    "The main model to estimate the treatment effect is just comparing the mean outcomes in the treatment and control groups after accounting for stratification:"
   ]
  },
  {
   "cell_type": "markdown",
   "metadata": {},
   "source": [
    "$$Y_{ij} = \\beta_{j}T_{ij} + b_{j} + \\epsilon_{ij}$$"
   ]
  },
  {
   "cell_type": "markdown",
   "metadata": {},
   "source": [
    "$Y_{ij}$ is the outcome variable in village i, branch j; $T$ is a treatment indicator variable for villages, $b_{j}$ are branch fixed effects, and $\\epsilon_{ij}$ is the error term. In their analysis authors cluster standard errors at the village level, because treatment was assigned at the cluster(village) level. I follow their approach in replication. "
   ]
  },
  {
   "cell_type": "markdown",
   "metadata": {},
   "source": [
    "My replication strongly supports findings on the size of the treatment effect by Björkman et al. The coefficient estimates coincide for all measures of child mortality in all three groups (under-5, infants, neonatal). There  exist, however, differences in reporting the estimates of $R^2$. Authors report the Stata-computed overall $R^2$, while I choose to include the within $R^2$ derived by *linearmodels* in order to see how much variation in child mortality the model captures within a branch.  "
   ]
  },
  {
   "cell_type": "markdown",
   "metadata": {},
   "source": [
    "#### Table 3 - Program Impact on Child Mortality "
   ]
  },
  {
   "cell_type": "markdown",
   "metadata": {},
   "source": [
    "|  |  | Number of deaths | | Mortality per 1000 years of exposure | | | Mortality per 1000 births | |    \n",
    "| --- | --- | --- | --- | ----------------------- | --- | --- | --- | --- |\n",
    "| | Under-5 deaths | Infant deaths | Neonatal deaths | Under-5 mortality |Infant mortality | Neonatal mortality | Under-5 mortality | Infant mortality |     \n",
    "| Dependent variable | **(1)** | **(2)** | **(3)** | **(4)** | **(5)** | **(6)** | **(7)** | **(8)** |                       \n",
    "| Program impact | -0.58 | -0.54 | -0.29 | -5.95 | -18.87 | -9.27 | -19.86 | -17.26 |  \n",
    "| Std.errors | (0.23) | (0.19) | (0.15) | (2.07) | (5.99) | (4.62) | (7.23) | (5.35) |  \n",
    "| Rate ratio |  |  |  | 0.73 | 0.48 | 3.5 |  |  |    \n",
    "| Std.errors |  |  |  | (0.07) | (0.08) | (0.02)  | |  |   \n",
    "| Mean control | 2.08 | 1.62 | 1.07 | 19.4 | 52.7 | 33.36 | 68.4 | 49.7 |   \n",
    "| Branch FE | Yes | Yes | Yes | Yes | Yes | Yes | Yes | Yes |    \n",
    "| Observations | 214 | 214 | 214 | 214 | 214 | 214 | 214 | 214 |   \n",
    "| Within $R^2$ | 0.0280 | 0.0345 | 0.0162 | 0.0396 | 0.0470 | 0.0189 | 0.0367 | 0.0479 |  "
   ]
  },
  {
   "cell_type": "markdown",
   "metadata": {},
   "source": [
    "<font size=\"2\">Table 3: treatment effect is estimated with a standard OLS with one fixed effect. Dependent variables: (1) number of under-5 deaths; (2)number of infant deaths; (3) number of neonatal deaths; (4)number of under-5 deaths per 1000 child-years of exposure to the risk of death; (5) number of infant deaths per 1000 child-years of infant exposure to the risk of death; (6) number of neonatal deaths per 1000 births; (7) number of under-5 deaths per 1000 births; (8) number of infant deaths per 1000 births. Rate ratios in (4) - (6) come from a Poisson regression. In columns (6)-(8) child mortality is measured by WHO standards using life-table approach. Every OLS was performed with one fixed effect, branch fixed effect. There are 12 entities (branches) in each sample. Standard errors are in parantheses and clustered at the village level. Mean controls come from OLS without accounting for stratification. The $R^2$ (within) refers to regressions with branch fixed effect.</font>"
   ]
  },
  {
   "cell_type": "markdown",
   "metadata": {},
   "source": [
    "Rows (1)-(3) use the raw numbers on child mortality, i.e. the count of death cases. Here is the data on the number of cases of deaths. "
   ]
  },
  {
   "cell_type": "code",
   "execution_count": 195,
   "metadata": {},
   "outputs": [
    {
     "name": "stdout",
     "output_type": "stream",
     "text": [
      "Trial beginning: 115 treated clusters, 99 control clusters\n"
     ]
    }
   ],
   "source": [
    "df = pd.read_stata(\"AEJ2018_child_mortality.dta\", convert_missing = False) \n",
    "df = df.drop(df[df.datedeath_cmc< 1333].index)  # drop if child died before the study period\n",
    "#Generating indicators whether a child died before 5 years (60 motnhs),\n",
    "#1 year(12 months), or whether a neonatal death occured(before 1 month of life)\n",
    "df['death_u5'] = np.where((df['died']==1) & (df['aad']<60), 1, 0) \n",
    "df['death_u1'] = np.where((df['died']==1) & (df['aad']<12), 1, 0)\n",
    "df['death_u1m'] = np.where((df['died'] == 1) & (df['aad']<1), 1,0) \n",
    "#summing the cases of child death in 214 clusters\n",
    "df = df.groupby(['villageid', 'branchid', 'treatment'], as_index = True)[['death_u5', \n",
    "'death_u1','death_u1m']].sum().reset_index()\n",
    "df = df.set_index(['branchid', 'villageid'], drop = False)\n",
    "treated = df[df.treatment == 1]\n",
    "control = df[df.treatment == 0]\n",
    "number_of_treated = treated['treatment'].count() \n",
    "number_of_controls = control['treatment'].count()\n",
    "print(f\"Trial beginning: {number_of_treated} treated clusters, {number_of_controls} control clusters\") "
   ]
  },
  {
   "cell_type": "code",
   "execution_count": 196,
   "metadata": {},
   "outputs": [
    {
     "data": {
      "text/html": [
       "<div>\n",
       "<style scoped>\n",
       "    .dataframe tbody tr th:only-of-type {\n",
       "        vertical-align: middle;\n",
       "    }\n",
       "\n",
       "    .dataframe tbody tr th {\n",
       "        vertical-align: top;\n",
       "    }\n",
       "\n",
       "    .dataframe thead th {\n",
       "        text-align: right;\n",
       "    }\n",
       "</style>\n",
       "<table border=\"1\" class=\"dataframe\">\n",
       "  <thead>\n",
       "    <tr style=\"text-align: right;\">\n",
       "      <th></th>\n",
       "      <th>villageid</th>\n",
       "      <th>branchid</th>\n",
       "      <th>treatment</th>\n",
       "      <th>death_u5</th>\n",
       "      <th>death_u1</th>\n",
       "      <th>death_u1m</th>\n",
       "    </tr>\n",
       "  </thead>\n",
       "  <tbody>\n",
       "    <tr>\n",
       "      <th>count</th>\n",
       "      <td>214.000000</td>\n",
       "      <td>214.000000</td>\n",
       "      <td>214.000000</td>\n",
       "      <td>214.000000</td>\n",
       "      <td>214.000000</td>\n",
       "      <td>214.000000</td>\n",
       "    </tr>\n",
       "    <tr>\n",
       "      <th>mean</th>\n",
       "      <td>1427.602804</td>\n",
       "      <td>16.691589</td>\n",
       "      <td>0.537383</td>\n",
       "      <td>1.817757</td>\n",
       "      <td>1.373832</td>\n",
       "      <td>0.953271</td>\n",
       "    </tr>\n",
       "    <tr>\n",
       "      <th>std</th>\n",
       "      <td>255.135766</td>\n",
       "      <td>15.477630</td>\n",
       "      <td>0.499770</td>\n",
       "      <td>1.846062</td>\n",
       "      <td>1.535333</td>\n",
       "      <td>1.224808</td>\n",
       "    </tr>\n",
       "    <tr>\n",
       "      <th>min</th>\n",
       "      <td>1001.000000</td>\n",
       "      <td>1.000000</td>\n",
       "      <td>0.000000</td>\n",
       "      <td>0.000000</td>\n",
       "      <td>0.000000</td>\n",
       "      <td>0.000000</td>\n",
       "    </tr>\n",
       "    <tr>\n",
       "      <th>25%</th>\n",
       "      <td>1306.250000</td>\n",
       "      <td>1.000000</td>\n",
       "      <td>0.000000</td>\n",
       "      <td>1.000000</td>\n",
       "      <td>0.000000</td>\n",
       "      <td>0.000000</td>\n",
       "    </tr>\n",
       "    <tr>\n",
       "      <th>50%</th>\n",
       "      <td>1411.500000</td>\n",
       "      <td>5.000000</td>\n",
       "      <td>1.000000</td>\n",
       "      <td>1.000000</td>\n",
       "      <td>1.000000</td>\n",
       "      <td>1.000000</td>\n",
       "    </tr>\n",
       "    <tr>\n",
       "      <th>75%</th>\n",
       "      <td>1632.750000</td>\n",
       "      <td>31.000000</td>\n",
       "      <td>1.000000</td>\n",
       "      <td>2.750000</td>\n",
       "      <td>2.000000</td>\n",
       "      <td>1.000000</td>\n",
       "    </tr>\n",
       "    <tr>\n",
       "      <th>max</th>\n",
       "      <td>1910.000000</td>\n",
       "      <td>42.000000</td>\n",
       "      <td>1.000000</td>\n",
       "      <td>14.000000</td>\n",
       "      <td>11.000000</td>\n",
       "      <td>7.000000</td>\n",
       "    </tr>\n",
       "  </tbody>\n",
       "</table>\n",
       "</div>"
      ],
      "text/plain": [
       "         villageid    branchid   treatment    death_u5    death_u1   death_u1m\n",
       "count   214.000000  214.000000  214.000000  214.000000  214.000000  214.000000\n",
       "mean   1427.602804   16.691589    0.537383    1.817757    1.373832    0.953271\n",
       "std     255.135766   15.477630    0.499770    1.846062    1.535333    1.224808\n",
       "min    1001.000000    1.000000    0.000000    0.000000    0.000000    0.000000\n",
       "25%    1306.250000    1.000000    0.000000    1.000000    0.000000    0.000000\n",
       "50%    1411.500000    5.000000    1.000000    1.000000    1.000000    1.000000\n",
       "75%    1632.750000   31.000000    1.000000    2.750000    2.000000    1.000000\n",
       "max    1910.000000   42.000000    1.000000   14.000000   11.000000    7.000000"
      ]
     },
     "execution_count": 196,
     "metadata": {},
     "output_type": "execute_result"
    }
   ],
   "source": [
    "df.describe() "
   ]
  },
  {
   "cell_type": "markdown",
   "metadata": {},
   "source": [
    "Before running regressions to estimate the treatment effect, let's try to get an intuitive sense of how the treatment and control clusters performed in under-5 child death tolls. As shown above, first we are interested in the treatment effect on the total sum of deaths cases per  cluster. This is how the number of under-5 death cases was distributed across control and treatment villages:"
   ]
  },
  {
   "cell_type": "code",
   "execution_count": 197,
   "metadata": {},
   "outputs": [
    {
     "data": {
      "text/plain": [
       "Text(0.5, 1.05, 'Figure 6.Distribution of under-5 deaths cases in the control and treatment villages')"
      ]
     },
     "execution_count": 197,
     "metadata": {},
     "output_type": "execute_result"
    },
    {
     "data": {
      "image/png": "[encoded data removed]",
      "text/plain": [
       "<Figure size 576x396 with 1 Axes>"
      ]
     },
     "metadata": {},
     "output_type": "display_data"
    }
   ],
   "source": [
    "tc = sns.countplot(x=\"death_u5\", hue = \"treatment\", data = df) \n",
    "tc.set(xlabel='Number of under-5 deaths', ylabel='Count)')\n",
    "tc.set_title(r'Figure 6.Distribution of under-5 deaths cases in the control and treatment villages', fontsize = 16, fontweight = 'bold', y=1.05) "
   ]
  },
  {
   "cell_type": "markdown",
   "metadata": {},
   "source": [
    "There are clearly more villages with no cases of child death in the treatment group. Also, we can see that the treated villages outnumber the controls in the left tail of the distribution. That said, this plot is not sufficiently good to get an idea of the estimated treatment effect, because *(i)* the raw numbers of death cases are obviously sensitive to the differences in groups' size, *(ii)* due to the occurence of of an outlying nummber of 14 deaths in the treatment group it is not so obvious to see the program impact in reducing numbers of child mortality. Therefore, I suggest looking at  how the random forest classifier predicts whether a child under 5 dies or survives in a household based on the treatment assignment. The plots below (to keep things neat,they are *Figures 7(a), 7(b)*) show that when trained on the treated villages the classifier predicts a 'thinner' slice of households to have an under-5 death. First plot corresponds to treated villages, the second one - controls. "
   ]
  },
  {
   "cell_type": "code",
   "execution_count": 198,
   "metadata": {},
   "outputs": [
    {
     "name": "stderr",
     "output_type": "stream",
     "text": [
      "C:\\Users\\ZEF\\anaconda3\\lib\\site-packages\\sklearn\\base.py:197: FutureWarning: From version 0.24, get_params will raise an AttributeError if a parameter cannot be retrieved as an instance attribute. Previously it would return None.\n",
      "  FutureWarning)\n"
     ]
    },
    {
     "data": {
      "image/png": "[encoded data removed]",
      "text/plain": [
       "<Figure size 576x396 with 1 Axes>"
      ]
     },
     "metadata": {},
     "output_type": "display_data"
    },
    {
     "data": {
      "text/plain": [
       "<matplotlib.axes._subplots.AxesSubplot at 0x1e38beb4308>"
      ]
     },
     "execution_count": 198,
     "metadata": {},
     "output_type": "execute_result"
    }
   ],
   "source": [
    "df_class = pd.read_stata(\"AEJ2018_child_mortality.dta\", convert_missing = False) \n",
    "df_class = df_class.drop(df_class[df_class.datedeath_cmc< 1333].index)  # drop if child died before the study period\n",
    "#Generating indicators whether a child died before 5 years (60 motnhs),\n",
    "#1 year(12 months), or whether a neonatal death occured(before 1 month of life)\n",
    "df_class['death_u5'] = np.where((df_class['died']==1) & (df_class['aad']<60), 1, 0) \n",
    "treated = df_class[df_class.treatment == 1]\n",
    "control = df_class[df_class.treatment == 0]\n",
    "X= control[control.columns[:3]] #branchid, villageid, treatment\n",
    "y = control['death_u5'].values.ravel()\n",
    "\n",
    "X_train, X_test, y_train, y_test = train_test_split(X, y, test_size=0.2, random_state=42)\n",
    "\n",
    "classes = ['survival', 'death']\n",
    "visualizer_con = ClassPredictionError(\n",
    "    RandomForestClassifier(random_state=42, n_estimators=100), classes=classes\n",
    ")\n",
    "\n",
    "visualizer_con.fit(X_train, y_train)\n",
    "\n",
    "visualizer_con.score(X_test, y_test)\n",
    "\n",
    "visualizer_con.show() "
   ]
  },
  {
   "cell_type": "code",
   "execution_count": 199,
   "metadata": {},
   "outputs": [
    {
     "name": "stderr",
     "output_type": "stream",
     "text": [
      "C:\\Users\\ZEF\\anaconda3\\lib\\site-packages\\sklearn\\base.py:197: FutureWarning: From version 0.24, get_params will raise an AttributeError if a parameter cannot be retrieved as an instance attribute. Previously it would return None.\n",
      "  FutureWarning)\n"
     ]
    },
    {
     "data": {
      "image/png": "[encoded data removed]",
      "text/plain": [
       "<Figure size 576x396 with 1 Axes>"
      ]
     },
     "metadata": {},
     "output_type": "display_data"
    },
    {
     "data": {
      "text/plain": [
       "<matplotlib.axes._subplots.AxesSubplot at 0x1e38be34e08>"
      ]
     },
     "execution_count": 199,
     "metadata": {},
     "output_type": "execute_result"
    }
   ],
   "source": [
    "X= treated[treated.columns[:3]]\n",
    "y = treated['death_u5'].values.ravel()\n",
    "\n",
    "X_train, X_test, y_train, y_test = train_test_split(X, y, test_size=0.2, random_state=42)\n",
    "\n",
    "classes = ['survival', 'death']\n",
    "visualizer = ClassPredictionError(\n",
    "    RandomForestClassifier(random_state=42, n_estimators=100), classes=classes\n",
    ")\n",
    "\n",
    "visualizer.fit(X_train, y_train)\n",
    "\n",
    "visualizer.score(X_test, y_test)\n",
    "\n",
    "visualizer.show()  "
   ]
  },
  {
   "cell_type": "markdown",
   "metadata": {},
   "source": [
    "Now we can move on to the replication part of *Table 3*. *Table 3* considers 3 different approaches to computing child mortality: *(i)* the raw number of deaths, *(ii)* mortality per 1000 years of exposure. In more detail the method is described in part [I.E *Outcomes*](#E.-*Outcomes*) as well as in data preparation process below, *(iii)* life-table approach, a standard adopted by WHO and UN. For a more efficient use of space I do not print out each separate regression table, but they are of course available to be run after switching off the code-hiding mode and removing a hash in the last line. The main results are summarised in *Table 3*. \n",
    "\n",
    "The coefficients are estimated using OLS with a branch fixed effect to account for stratification. The mean controls produce naive estimates of the treatment effect as well as mean child mortality without intervention. These are used for converting the program impact coefficients into percents for a better interpretation.\n",
    "\n",
    "Columns (1)-(3) show that the program had a big impact on reducing the number of child deaths in all three age categories. The replication supports results obtained by Björkman et al. The treatment reduces the number of under-5 deaths 0.58 or by 28 percent (the percentage difference in child mortality with and without the program: mean control - $\\widehat{beta}$) , number of infant deaths by 33 percent, neonatal deaths - by 27 percent. That said, the program implementation was phased in over a period of time, therefore the effect of the program on the raw numbers of child deaths may have been driven by heterogeneity in the cohorts. Thus, other measures of child mortality are considered. "
   ]
  },
  {
   "cell_type": "code",
   "execution_count": 200,
   "metadata": {},
   "outputs": [],
   "source": [
    "#Program impact on under 5 deaths\n",
    "reg_1 = PanelOLS(df.death_u5,df.treatment, entity_effects = True)\n",
    "res_1 = reg_1.fit(cov_type = 'clustered', clusters = df.villageid)\n",
    "\n",
    "#Program impact on infant deaths\n",
    "reg_2 = PanelOLS(df['death_u1'],add_constant(df['treatment']), entity_effects = True)\n",
    "res_2 = reg_2.fit(cov_type = 'clustered', clusters = df.villageid) \n",
    "\n",
    "#Program impact on neonatal deaths \n",
    "X = ['treatment']\n",
    "X = add_constant(df[X])\n",
    "reg_3 = PanelOLS(df.death_u1m,X, entity_effects = True)\n",
    "res_3 = reg_3.fit(cov_type = 'clustered', clusters = df.villageid)\n",
    "\n",
    "#print(res_1, res_2, res_3)  "
   ]
  },
  {
   "cell_type": "code",
   "execution_count": 201,
   "metadata": {},
   "outputs": [],
   "source": [
    "#number of under-5 deaths, mean control\n",
    "mc_1 = sm.OLS(df['death_u5'],add_constant(df['treatment']))\n",
    "mc_res_1 = mc_1.fit()\n",
    "summary1 = mc_res_1.summary2(yname=\"Number of under-5 deaths\", xname=[\"Intercept\", \"Program impact\"],\n",
    "             title=\"Program Impact on Child Mortality, Mean Controls\", alpha=0.05, float_format='%.4f')  \n",
    "#number of infant deaths, mean control \n",
    "mc_2 = sm.OLS(df['death_u1'],add_constant(df['treatment']))\n",
    "mc_res_2 = mc_2.fit()\n",
    "summary2 = mc_res_2.summary2(yname=\"Number of infant deaths\", xname=[\"Intercept\", \"Program impact\"],\n",
    "             title=\"Program Impact on Child Mortality, Mean controls\", alpha=0.05, float_format='%.4f')\n",
    "#number of neonatal deaths, mean control\n",
    "mc_3 = sm.OLS(df['death_u1m'],add_constant(df['treatment']))\n",
    "mc_res_3 = mc_3.fit()\n",
    "summary3 = mc_res_3.summary2(yname=\"Number of neonatal deaths\", xname=[\"Intercept\", \"Program impact\"],\n",
    "             title=\"Program Impact on Child Mortality, Mean Control\", alpha=0.05, float_format='%.4f') \n",
    "#print(summary1, summary2, summary3) "
   ]
  },
  {
   "cell_type": "markdown",
   "metadata": {},
   "source": [
    "#### Program impact on the Mortality per 1,000 years of exposure"
   ]
  },
  {
   "cell_type": "code",
   "execution_count": 202,
   "metadata": {},
   "outputs": [],
   "source": [
    "df = pd.read_stata(\"AEJ2018_child_mortality_computation.dta\") \n",
    "df = df.groupby(['villageid', 'branchid', 'treatment'], as_index = True)[['death_under5','count_month_u5',\n",
    "'death_under1', 'count_month_u1','death_under1m','count_month_u1m']].sum().reset_index()\n",
    "df = df.set_index(['villageid', 'branchid'], drop = False)\n",
    "df['count_month_u5'] = df.apply(lambda row: row.count_month_u5/12, axis = 1)\n",
    "df['count_month_u1'] = df.apply(lambda row: row.count_month_u1/12, axis = 1)\n",
    "df['mrate_u5'] = (df['death_under5']/df['count_month_u5'])*1000\n",
    "df['mrate_u1'] = (df['death_under1']/df['count_month_u1'])*1000\n",
    "df['mrate_u1m'] = (df['death_under1m']/df['count_month_u1m'])*1000\n",
    "df.to_csv(\"data_for_table_3_prepared.csv\")\n",
    "#df.head() "
   ]
  },
  {
   "cell_type": "markdown",
   "metadata": {},
   "source": [
    "Child mortality per 1000 years of exposure is the most appropriate measure given the relatively short period of the study. Therefore, program impact on this indicator is reported as the main result of the paper. A more precise size of the treatment effect is obtained by accounting for the  incidence of child deaths in the treatment and control groups via the means of a poisson regression. My replication entirely supports the findging of a 27% of reduction in the risk of under-5 deaths (the percentage difference in child mortality with and without the program after accounting for the incidence rates in both groups). I do, however, arrive at a larger program impact for infants. While the treatment effect estimate is the same, I get a smaller rate ratio of infant deaths in the two groups. Hence, in my replication the program reduces the risk of infant mortality by 52% (18.87/0.48 = 39.31; (39.31-18.87)/39.31 = 0.52). Though different, my estimate supports that the size of the treatment effect was considerably larger for infants.  \n",
    "\n",
    "While replicating this part of *Table 3* I faced some challenges applying the *linearmodels* package. In particular, when using the fixed effect model, *PanelOLS*, an absorbing error was always returned, so the model could not be estimated because all of my $X$ (treatment) were absorbed by the branch fixed effect. An inspection of my data, prepared in this notebook, didn't reveal differences from the Stata-prepared dataset used by the authors. To make sure there is no collinearity between treatment status and branch id, I calculated the VIF:  "
   ]
  },
  {
   "cell_type": "code",
   "execution_count": 203,
   "metadata": {},
   "outputs": [
    {
     "name": "stdout",
     "output_type": "stream",
     "text": [
      "VIF = 1.0\n"
     ]
    }
   ],
   "source": [
    "cov1 = ['branchid'] \n",
    "cov1 =add_constant(df[cov1])\n",
    "model = sm.OLS(df.treatment, cov1) \n",
    "results = model.fit() \n",
    "rsq = results.rsquared \n",
    "vif = round(1/(1-rsq),2) \n",
    "print(f\"VIF = {vif}\") "
   ]
  },
  {
   "cell_type": "markdown",
   "metadata": {},
   "source": [
    "Since R is able to estimate the model on the dataset prepared in this notebook, I believe there is something with linearmodels in this part of *Table 3*[<sup>3</sup>](#fn3). Therefore, for this part of *Table 3* I used R. The code runs here."
   ]
  },
  {
   "cell_type": "code",
   "execution_count": 204,
   "metadata": {},
   "outputs": [],
   "source": [
    "%%R\n",
    "data <- read.csv(\"data_for_table_3_prepared.csv\")\n",
    "reg_4 <- plm(mrate_u5~treatment, \n",
    "             data = data,\n",
    "             index = c(\"branchid\"),\n",
    "             model = \"within\")\n",
    "summary(reg_4) \n",
    "reg_5 <- plm(mrate_u1~treatment, \n",
    "             data = data,\n",
    "             index = c(\"branchid\"),\n",
    "             model = \"within\")\n",
    "summary(reg_5)\n",
    "#Poisson regressions \n",
    "rate_ratio <- glm(death_under5~treatment,\n",
    "                  data=data,\n",
    "                  family = \"poisson\")\n",
    "summary(rate_ratio) \n",
    "\n",
    "rate_ratio <- glm(death_under1~treatment,\n",
    "                  data=data,\n",
    "                  family = \"poisson\")\n",
    "summary(rate_ratio)  "
   ]
  },
  {
   "cell_type": "code",
   "execution_count": 205,
   "metadata": {},
   "outputs": [],
   "source": [
    "#under-5 mortality rate, mean control\n",
    "covariates = ['treatment'] \n",
    "X = add_constant(df[covariates])\n",
    "mc_1 = sm.OLS(df.mrate_u5, X) \n",
    "res_1=mc_1.fit()\n",
    "summary1 = res_1.summary2(yname=\"Under-5 mortality\", xname=[\"Intercept\", \"Program impact\"],\n",
    "             title=\"Program Impact on Child Mortality, Mean Controls\", alpha=0.05, float_format='%.4f')\n",
    "#Infant mortality, mean control\n",
    "mc_2 = sm.OLS(df['mrate_u1'],add_constant(df['treatment']))\n",
    "res_2 = mc_2.fit()\n",
    "summary2 = res_2.summary2(yname=\"Infant mortality\", xname=[\"Intercept\", \"Program impact\"],\n",
    "             title=\"Program Impact on Child Mortality, Mean Controls\", alpha=0.05, float_format='%.4f') \n",
    "#print(summary1, summary2)"
   ]
  },
  {
   "cell_type": "markdown",
   "metadata": {},
   "source": [
    "To see the program impact by zones, I replicated *Figure A6* in the paper:"
   ]
  },
  {
   "cell_type": "code",
   "execution_count": 206,
   "metadata": {},
   "outputs": [
    {
     "data": {
      "text/plain": [
       "Text(0.5, 1.05, 'Figure 8 (replication of A6).Program Impact Across Geographic Zones')"
      ]
     },
     "execution_count": 206,
     "metadata": {},
     "output_type": "execute_result"
    },
    {
     "data": {
      "image/png": "[encoded data removed]",
      "text/plain": [
       "<Figure size 576x396 with 1 Axes>"
      ]
     },
     "metadata": {},
     "output_type": "display_data"
    }
   ],
   "source": [
    "df = pd.read_stata(\"AEJ2018_child_mortality_computation.dta\") \n",
    "df = df.groupby(['branchid', 'treatment'], as_index = True)[['death_under5','count_month_u5',\n",
    "'death_under1', 'count_month_u1','death_under1m','count_month_u1m']].sum().reset_index()\n",
    "#df = df.set_index(['villageid', 'branchid'], drop = False)\n",
    "df['count_month_u5'] = df.apply(lambda row: row.count_month_u5/12, axis = 1)\n",
    "df['mrate_u5'] = (df['death_under5']/df['count_month_u5'])*1000\n",
    "df.loc[df['treatment'] == 1, 'mrate_u5_Ttemp'] = df['mrate_u5'] \n",
    "df[\"mrate_u5_T\"] = df.groupby([\"branchid\"])['mrate_u5_Ttemp'].transform(max) \n",
    "df.loc[df['treatment'] == 0, 'mrate_u5_Ctemp'] = df['mrate_u5'] \n",
    "df[\"mrate_u5_C\"] = df.groupby([\"branchid\"])['mrate_u5_Ctemp'].transform(max) \n",
    "df = df.groupby(['branchid'])[['mrate_u5_C', 'mrate_u5_T']].mean()\n",
    "df.head() \n",
    "\n",
    "#Plotting mortality rate in the treatment group against the control group\n",
    "ax = sns.scatterplot(x=\"mrate_u5_C\", y=\"mrate_u5_T\", data=df)\n",
    "\n",
    "lims = [\n",
    "    np.min([ax.get_xlim(), ax.get_ylim()]),  \n",
    "    np.max([ax.get_xlim(), ax.get_ylim()]),  \n",
    "]\n",
    "\n",
    "ax.plot(lims, lims, 'k-', alpha=0.75, zorder=0)\n",
    "ax.set_aspect('equal')\n",
    "ax.set_xlim(lims)\n",
    "ax.set_ylim(lims)\n",
    "\n",
    "ax.set(xlabel='Under-5 mortality (control)', ylabel='Under-5 mortality(treatment)')\n",
    "ax.set_title(r'Figure 8 (replication of A6).Program Impact Across Geographic Zones', fontsize = 16, fontweight = 'bold', y=1.05)"
   ]
  },
  {
   "cell_type": "markdown",
   "metadata": {},
   "source": [
    "This is an illustration of the program impact in 12 zones (blue dots). Dots below the 45° line stand for zones where treated villages had a lower child mortality than the controls. As shown, in 3 zones program didn't reduce child mortality."
   ]
  },
  {
   "cell_type": "markdown",
   "metadata": {},
   "source": [
    "####  Mortality per 1000 births"
   ]
  },
  {
   "cell_type": "markdown",
   "metadata": {},
   "source": [
    "In columns (7)-(8) child mortality is measured as deaths per 1000 live births. This is a life-table approach commonly used in international practice. This replication substantiates that the CHP healthcare program helped to avoid 19.86 deaths among children under 5 (reduction of 29% compared to when there is no treatment), and 17.2 infant deaths (corresponding to infant mortality decrasing by 34.7%)."
   ]
  },
  {
   "cell_type": "code",
   "execution_count": 207,
   "metadata": {},
   "outputs": [],
   "source": [
    "df_3 = pd.read_stata(\"AEJ2018_child_mortality_computationDHS.dta\") \n",
    "df_3 = df_3.groupby(['villageid', 'branchid', 'treatment'], as_index = True)[df_3.columns[pd.Series(df_3.columns).str.startswith(('cohort',\n",
    "                                                                            'died'))]].sum().reset_index()\n",
    "df_3['cdp_0_5']= df_3['died_0_5'] / df_3['cohort0_5'] \n",
    "#1-2 months\n",
    "df_3['cdp_12_5']=((0.5*df_3['died_12_5A']) + df_3['died_12_5B'] + df_3['died_12_5C'])/((0.5*df_3['cohort12_5A'])\n",
    "                    + df_3['cohort12_5B'] + (0.5* df_3['cohort12_5C']))\n",
    "\n",
    "#3-5 months\n",
    "df_3['cdp_35_5']=((0.5*df_3['died_35_5A']) + df_3['died_35_5B'] +\n",
    "                  df_3['died_35_5C'])/((0.5*df_3['cohort35_5A']) + df_3['cohort35_5B'] + (0.5* df_3['cohort35_5C']))\n",
    "\n",
    "#6-11 months\n",
    "df_3['cdp_611_5']=((0.5*df_3['died_611_5A']) + df_3['died_611_5B']\n",
    "                   + df_3['died_611_5C'])/((0.5*df_3['cohort611_5A']) + df_3['cohort611_5B'] + (0.5* df_3['cohort611_5C']))\n",
    "\n",
    "#12-23 months\n",
    "df_3['cdp_1223_5']=((0.5*df_3['died_1223_5A']) + df_3['died_1223_5B']\n",
    "                    + df_3['died_1223_5C'])/((0.5*df_3['cohort1223_5A']) + df_3['cohort1223_5B'] + (0.5* df_3['cohort1223_5C']))\n",
    "\n",
    "#24-35 months\n",
    "df_3['cdp_2435_5']=((0.5*df_3['died_2435_5A']) + df_3['died_2435_5B'] + df_3['died_2435_5C'])/((0.5*df_3['cohort2435_5A'])\n",
    "                    + df_3['cohort2435_5B'] + (0.5* df_3['cohort2435_5C']))\n",
    "\n",
    "#36 - 47 months\n",
    "df_3['cdp_3647_5']=((0.5*df_3['died_3647_5A']) + df_3['died_3647_5B'] + df_3['died_3647_5C'])/((0.5*df_3['cohort3647_5A'])\n",
    "                        + df_3['cohort3647_5B'] + (0.5* df_3['cohort3647_5C']))\n",
    "\n",
    "#48 -59 months\n",
    "df_3['cdp_4859_5']=((0.5*df_3['died_4859_5A']) + df_3['died_4859_5B'] + df_3['died_4859_5C'])/((0.5*df_3['cohort4859_5A']) \n",
    "                        + df_3['cohort4859_5B'] + (0.5* df_3['cohort4859_5C'])) \n",
    "\n",
    "#Calculate the component survival probability by subtracting the component death probability from one:\n",
    "df_3['csp_0_5']=1-df_3['cdp_0_5']\n",
    "df_3['csp_12_5']=1-df_3['cdp_12_5']\n",
    "df_3['csp_35_5']=1-df_3['cdp_35_5']\n",
    "df_3['csp_611_5']=1-df_3['cdp_611_5']\n",
    "df_3['csp_1223_5']=1-df_3['cdp_1223_5']\n",
    "df_3['csp_2435_5']=1-df_3['cdp_2435_5']\n",
    "df_3['csp_3647_5']=1-df_3['cdp_3647_5']\n",
    "df_3['csp_4859_5']=1-df_3['cdp_4859_5']\n",
    "\n",
    "#Calculate the product of the component survival probabilities for 0, 1-2, 3-5, and 6-11 months of age.\n",
    "df_3['produ_csp_1y_5']= df_3['csp_0_5']* df_3['csp_12_5']* df_3['csp_35_5']* df_3['csp_611_5']\n",
    "df_3['produ_csp_5y_5'] = df_3['csp_0_5']* df_3['csp_12_5']* df_3['csp_35_5']* df_3['csp_611_5']*df_3['csp_1223_5']* df_3['csp_2435_5']* df_3['csp_3647_5']* df_3['csp_4859_5']\n",
    "\n",
    "#Subtract the product from 1 and multiply by 1000 to get the mortality rates:\n",
    "df_3['imr_1m_5']=(1-df_3['csp_0_5'])*1000\n",
    "df_3['imr_1y_5']=(1-df_3['produ_csp_1y_5'])*1000\n",
    "df_3['imr_5y_5']=(1-df_3['produ_csp_5y_5'])*1000 \n",
    "\n",
    "df_3 = df_3.set_index(['branchid', 'villageid'], drop = False)\n",
    "df_3.to_csv(\"life_table.csv\")\n",
    "\n",
    "#df_3.describe()"
   ]
  },
  {
   "cell_type": "code",
   "execution_count": 208,
   "metadata": {},
   "outputs": [],
   "source": [
    "#Program impact on infant mortality per 1000 births\n",
    "reg_6 = PanelOLS(df_3.imr_1y_5,df_3.treatment, entity_effects = True)\n",
    "res_6 = reg_6.fit(cov_type = 'clustered', clusters = df_3.villageid)\n",
    "\n",
    "#Program impact on under-5 mortality per 1000 births\n",
    "reg_7 = PanelOLS(df_3['imr_5y_5'],add_constant(df_3['treatment']), entity_effects = True)\n",
    "res_7 = reg_7.fit(cov_type = 'clustered', clusters = df_3.villageid) \n",
    "\n",
    "#Program impact on neonatal mortality per 1000 births \n",
    "X = ['treatment']\n",
    "X = add_constant(df_3[X])\n",
    "reg_8 = PanelOLS(df_3.imr_1m_5,X, entity_effects = True)\n",
    "res_8 = reg_8.fit(cov_type = 'clustered', clusters = df_3.villageid)\n",
    "\n",
    "#print(res_6, res_7, res_8) "
   ]
  },
  {
   "cell_type": "code",
   "execution_count": 209,
   "metadata": {},
   "outputs": [],
   "source": [
    "%%R \n",
    "#rate ratio\n",
    "life <- read.csv(\"life_table.csv\")\n",
    "rate_ratio_3 <- glm(imr_1m_5~treatment,\n",
    "                    data=life,\n",
    "                    family = \"poisson\")\n",
    "summary(rate_ratio_3)"
   ]
  },
  {
   "cell_type": "code",
   "execution_count": 210,
   "metadata": {},
   "outputs": [],
   "source": [
    "#neonatal mortality, mean control\n",
    "model_1 = sm.OLS(df_3['imr_1m_5'],add_constant(df_3['treatment']))\n",
    "res_1 = model_1.fit()\n",
    "summary1 = res_1.summary2(yname=\"Neonatal mortality\", xname=[\"Intercept\", \"Program impact\"],\n",
    "             title=\"Program Impact on Child Mortality, Mean Controls\", alpha=0.05, float_format='%.4f') \n",
    "#child mortality, mean control\n",
    "model_2 = sm.OLS(df_3['imr_5y_5'],add_constant(df_3['treatment']))\n",
    "res_2 = model_2.fit()\n",
    "summary2 = res_2.summary2(yname=\"Under-5 mortality\", xname=[\"Intercept\", \"Program impact\"],\n",
    "             title=\"Program Impact on Child Mortality, Mean Controls\", alpha=0.05, float_format='%.4f') \n",
    "#infant mortality, mean control \n",
    "model_3 = sm.OLS(df_3['imr_1y_5'],add_constant(df_3['treatment']))\n",
    "res_3 = model_3.fit()\n",
    "summary3 = res_3.summary2(yname=\"Infant mortality\", xname=[\"Intercept\", \"Program impact\"],\n",
    "             title=\"Program Impact on Child Mortality, Mean Controls\", alpha=0.05, float_format='%.4f') \n",
    "#print(summary1, summary2, summary3)"
   ]
  },
  {
   "cell_type": "markdown",
   "metadata": {},
   "source": [
    "#### Table 4 -- Program Impact on Child Weight, Height, and Hemoglobin Levels "
   ]
  },
  {
   "cell_type": "markdown",
   "metadata": {},
   "source": [
    "In addition to reducing child mortality, the CHP healthcare program had a general impact of a set of health outcomes. *Table 4* reports the treatment effect on height, weight, and hemoglobin levels in 3 age categories. My replication does not precisely estimate the parameters, however, the results that I get pertain the interpretation of the original paper. Differences stem from the data preparation step, which entailed some computationally expensive calculations.   "
   ]
  },
  {
   "cell_type": "markdown",
   "metadata": {},
   "source": [
    "| | Height-for-age z-score | Height-for-age z-score<2 | Weight-for-height z-score | Weight-for-height z-score<2 | Hemoglobin | Hemoglobin level <2 |  \n",
    "| --- | --- | --- | --- | --- | --- | --- |  \n",
    "| |(1)|(2)|(3)|(4)|(5)|(6)|   \n",
    "**Panel A. Children under 60 months**    \n",
    "| Program impact | 0.06 | -0.03 | 0.02 | -0.006 | 0.14 | -0.03 |      \n",
    "| |(0.041)|(0.011)|(0.037)|(0.006)|(0.04)|(0.009)|    \n",
    "| Mean control | -1.18 | 0.28 | -0.01 | 0.07 | 11.22 | 0.17 |    \n",
    "| Observations | 10375 | 10375 | 10375 | 10375 | 10375 | 10375 |      \n",
    "**Panel B. Children under 24 months**    \n",
    "| Program impact | 0.02 | -0.017 | 0.04 | -0.009 | 0.13 | -0.03 |      \n",
    "| | (0.054) | (0.014) | (0.054) | (0.009) | (0.057) | (0.015) |    \n",
    "| Mean control | -1.01 | 0.26 | -0.007 | 0.1 | 10.8 | 0.24 |    \n",
    "| Observations | 3998 | 3998 | 3998 | 3998 | 3998 | 3998 |    \n",
    "**Panel C. Children 24-60 months**    \n",
    "| Program impact | 0.09 | -0.04 | 0.01 | -0.003 | 0.16 | -0.04 |      \n",
    "| | (0.048) | (0.014) | (0.042) | (0.007) | (0.045) | (0.01) |    \n",
    "| Mean control | -1.28 | 0.29 | -0.006 | 0.053 | 11.46 | 0.13 |    \n",
    "| Observations | 6552 | 6552 | 6552 | 6552 | 6552 | 6552 |  \n",
    "| Branch FE | Yes | Yes | Yes | Yes | Yes | Yes | "
   ]
  },
  {
   "cell_type": "markdown",
   "metadata": {},
   "source": [
    "<font size=\"2\">Table 4: Panel A: all kids under-5, panel B: children younger than 24 months, panel C: children between 24 and 60 months of age. Dependent variables: (1) height-for-age(common measure for stunting); (2) dummy for noticeably stunted children (z-score $<$ -2); (3) weight-for-height[<sup>3</sup>](#fn1) (common measure for wasting); (4) dummy for noticeably wasted children; (5) hemoglobin level (common measure of anemia); (6) dummy for children with anemia (hemoglobin level $<$ 10g/dl). (1) - (4) are expressed in terms of z-scores. Each regression includes a branch fixed effect (12 branches). Standard errors are clustered at the village level.</font>"
   ]
  },
  {
   "cell_type": "markdown",
   "metadata": {},
   "source": [
    "Preparing data for table 4 required calculation of anthropometric z scores (weight for age, weight for height, height for age, bmi for age). This is a WHO approved method to compare a child's height, weight, BMI levels to the reference population. For some reason, I found the Python library \"pygrowup\" difficult to adjust to a dataset, so I used the R \"zscorer\" package for that. The code below (when shown) prepares data for *Table 4* and runs in Jupyter notebook. It may take some time (aroud 90-120 seconds). "
   ]
  },
  {
   "cell_type": "code",
   "execution_count": 211,
   "metadata": {},
   "outputs": [],
   "source": [
    "%%R\n",
    "#raw data \n",
    "#The initial dataset provided by authors for replication - \"AEJ2018_anthro.dta\" - failed to be uploaded, because of\n",
    "#incompatible Stata version. I saved \"AEJ2018_anthro.dta\" in a Stata 12 version as \"AEJ2018_table4.dta\" \n",
    "#So, \"AEJ2018_table4.dta\" and \"AEJ2018_anthro.dta\" provided by authors are two identical datasets just in different versions of Stata.\n",
    "data = read.dta(\"AEJ2018_table4.dta\") \n",
    "\n",
    "#rounding height(cm) to nearest 0.5\n",
    "data$length <- round_any(data$anthro_height, 0.5)\n",
    "\n",
    "#for precision weight was measured three times, obtaining the average of all measurements\n",
    "data$weight <- rowMeans(data[,8:10])\n",
    "\n",
    "#encoding male as 1, female as 2 (zscorer library syntax requirement)\n",
    "levels(data$anthro_female) <- c(1,2)\n",
    "\n",
    "#posture of child during mrasurement, 1 = Standing, 2 = Supine(lying), 3 = Other \n",
    "levels(data$anthro_standlay) <-c(2,1,3)\n",
    "\n",
    "#converting age in months to age in days (365.25/12 is taken from an example in zscorer documentation)\n",
    "data$age <- data$anthro_age * (365.25 / 12)\n",
    "\n",
    "#z scores: weight for age, weight for height, height for age, bmi for age \n",
    "#unlike the score06 function in Stata, addWGSR does not include a parameter of swelling\n",
    "#anthro_swell is \"does the child have swelling in extremeties?\"\n",
    "#this factor was not accounted in the calculation of z scores below\n",
    "#so results may differ from what the authors got. But the obtained results are still valid,\n",
    "#the distribution of values is in compliance with WHO expectations. \n",
    "\n",
    "data <- addWGSR(data = data, sex = \"anthro_female\", firstPart = \"weight\", \n",
    "               secondPart = \"age\", index = \"wfa\", standing = \"anthro_standlay\")\n",
    "\n",
    "data <- addWGSR(data = data, sex = \"anthro_female\", firstPart = \"weight\", \n",
    "                secondPart = \"length\", index = \"wfh\",standing = \"anthro_standlay\" ) \n",
    "\n",
    "data <- addWGSR(data = data, sex = \"anthro_female\", firstPart = \"length\", \n",
    "                secondPart = \"age\", index = \"hfa\", standing = \"anthro_standlay\")\n",
    "\n",
    "data <- addWGSR(data = data, sex = \"anthro_female\", firstPart = \"weight\", \n",
    "                secondPart = \"length\", thirdPart=\"age\", index = \"bfa\",\n",
    "                standing = \"anthro_standlay\") \n",
    "\n",
    "#does the child have moderate to severe anemia? (<10g/dl) \n",
    "data$anemia <- ifelse((data$anthro_hemoglobin < 10) & (!is.na(data$anthro_hemoglobin)), 1,0)\n",
    "\n",
    "#is the child'a anthropometric indicator more than 2 std deviations below the mean? \n",
    "data$neg2_hfaz <- ifelse((data$hfaz < -2) & (!is.na(data$hfaz)), 1, 0)\n",
    "data$neg2_wfhz <- ifelse((data$wfhz < -2) & (!is.na(data$wfhz)), 1, 0)\n",
    "\n",
    "#dropping irrealistic values \n",
    "data$hfaz[which(data$hfaz < -6)] <- NA\n",
    "data$hfaz[which(data$hfaz > 6)] <- NA\n",
    "data$wfhz[which(data$wfhz < -6)] <- NA\n",
    "data$wfhz[which(data$wfhz > 6)] <- NA\n",
    "\n",
    "data$neg2_hfaz[which(data$hfaz < -6)] <- NA\n",
    "data$neg2_hfaz[which(data$hfaz > 6)] <- NA\n",
    "data$neg2_wfhz[which(data$wfhz < -6)] <- NA\n",
    "data$neg2_wfhz[which(data$wfhz > 6)] <- NA \n",
    "\n",
    "data = drop_na(data)\n",
    "\n",
    "write.csv(data, \"table_4_data.csv\") "
   ]
  },
  {
   "cell_type": "code",
   "execution_count": 212,
   "metadata": {},
   "outputs": [
    {
     "data": {
      "text/html": [
       "<div>\n",
       "<style scoped>\n",
       "    .dataframe tbody tr th:only-of-type {\n",
       "        vertical-align: middle;\n",
       "    }\n",
       "\n",
       "    .dataframe tbody tr th {\n",
       "        vertical-align: top;\n",
       "    }\n",
       "\n",
       "    .dataframe thead th {\n",
       "        text-align: right;\n",
       "    }\n",
       "</style>\n",
       "<table border=\"1\" class=\"dataframe\">\n",
       "  <thead>\n",
       "    <tr style=\"text-align: right;\">\n",
       "      <th></th>\n",
       "      <th></th>\n",
       "      <th>Unnamed: 0</th>\n",
       "      <th>branchid</th>\n",
       "      <th>villageid</th>\n",
       "      <th>treatment</th>\n",
       "      <th>hhid</th>\n",
       "      <th>childID</th>\n",
       "      <th>anthro_age</th>\n",
       "      <th>anthro_female</th>\n",
       "      <th>anthro_weight_1</th>\n",
       "      <th>anthro_weight_2</th>\n",
       "      <th>...</th>\n",
       "      <th>length</th>\n",
       "      <th>weight</th>\n",
       "      <th>age</th>\n",
       "      <th>wfaz</th>\n",
       "      <th>wfhz</th>\n",
       "      <th>hfaz</th>\n",
       "      <th>bfaz</th>\n",
       "      <th>anemia</th>\n",
       "      <th>neg2_hfaz</th>\n",
       "      <th>neg2_wfhz</th>\n",
       "    </tr>\n",
       "    <tr>\n",
       "      <th>branchid</th>\n",
       "      <th>villageid</th>\n",
       "      <th></th>\n",
       "      <th></th>\n",
       "      <th></th>\n",
       "      <th></th>\n",
       "      <th></th>\n",
       "      <th></th>\n",
       "      <th></th>\n",
       "      <th></th>\n",
       "      <th></th>\n",
       "      <th></th>\n",
       "      <th></th>\n",
       "      <th></th>\n",
       "      <th></th>\n",
       "      <th></th>\n",
       "      <th></th>\n",
       "      <th></th>\n",
       "      <th></th>\n",
       "      <th></th>\n",
       "      <th></th>\n",
       "      <th></th>\n",
       "      <th></th>\n",
       "    </tr>\n",
       "  </thead>\n",
       "  <tbody>\n",
       "    <tr>\n",
       "      <th rowspan=\"5\" valign=\"top\">41</th>\n",
       "      <th>1001</th>\n",
       "      <td>1</td>\n",
       "      <td>41</td>\n",
       "      <td>1001</td>\n",
       "      <td>1</td>\n",
       "      <td>100102</td>\n",
       "      <td>1</td>\n",
       "      <td>2</td>\n",
       "      <td>1</td>\n",
       "      <td>5.55</td>\n",
       "      <td>5.56</td>\n",
       "      <td>...</td>\n",
       "      <td>58.0</td>\n",
       "      <td>5.570000</td>\n",
       "      <td>60.8750</td>\n",
       "      <td>0.00</td>\n",
       "      <td>0.33</td>\n",
       "      <td>-0.22</td>\n",
       "      <td>0.16</td>\n",
       "      <td>0</td>\n",
       "      <td>0</td>\n",
       "      <td>0</td>\n",
       "    </tr>\n",
       "    <tr>\n",
       "      <th>1001</th>\n",
       "      <td>2</td>\n",
       "      <td>41</td>\n",
       "      <td>1001</td>\n",
       "      <td>1</td>\n",
       "      <td>100102</td>\n",
       "      <td>2</td>\n",
       "      <td>3</td>\n",
       "      <td>1</td>\n",
       "      <td>6.40</td>\n",
       "      <td>6.25</td>\n",
       "      <td>...</td>\n",
       "      <td>64.5</td>\n",
       "      <td>6.350000</td>\n",
       "      <td>91.3125</td>\n",
       "      <td>-0.03</td>\n",
       "      <td>-1.47</td>\n",
       "      <td>1.52</td>\n",
       "      <td>-1.19</td>\n",
       "      <td>0</td>\n",
       "      <td>0</td>\n",
       "      <td>0</td>\n",
       "    </tr>\n",
       "    <tr>\n",
       "      <th>1001</th>\n",
       "      <td>3</td>\n",
       "      <td>41</td>\n",
       "      <td>1001</td>\n",
       "      <td>1</td>\n",
       "      <td>100103</td>\n",
       "      <td>1</td>\n",
       "      <td>46</td>\n",
       "      <td>1</td>\n",
       "      <td>13.70</td>\n",
       "      <td>13.70</td>\n",
       "      <td>...</td>\n",
       "      <td>91.5</td>\n",
       "      <td>13.700000</td>\n",
       "      <td>1400.1250</td>\n",
       "      <td>-1.25</td>\n",
       "      <td>0.43</td>\n",
       "      <td>-2.60</td>\n",
       "      <td>0.76</td>\n",
       "      <td>0</td>\n",
       "      <td>1</td>\n",
       "      <td>0</td>\n",
       "    </tr>\n",
       "    <tr>\n",
       "      <th>1001</th>\n",
       "      <td>4</td>\n",
       "      <td>41</td>\n",
       "      <td>1001</td>\n",
       "      <td>1</td>\n",
       "      <td>100105</td>\n",
       "      <td>1</td>\n",
       "      <td>9</td>\n",
       "      <td>2</td>\n",
       "      <td>7.25</td>\n",
       "      <td>7.25</td>\n",
       "      <td>...</td>\n",
       "      <td>65.0</td>\n",
       "      <td>7.333333</td>\n",
       "      <td>273.9375</td>\n",
       "      <td>-0.95</td>\n",
       "      <td>0.38</td>\n",
       "      <td>-2.13</td>\n",
       "      <td>0.40</td>\n",
       "      <td>0</td>\n",
       "      <td>1</td>\n",
       "      <td>0</td>\n",
       "    </tr>\n",
       "    <tr>\n",
       "      <th>1001</th>\n",
       "      <td>5</td>\n",
       "      <td>41</td>\n",
       "      <td>1001</td>\n",
       "      <td>1</td>\n",
       "      <td>100106</td>\n",
       "      <td>2</td>\n",
       "      <td>39</td>\n",
       "      <td>2</td>\n",
       "      <td>12.40</td>\n",
       "      <td>12.00</td>\n",
       "      <td>...</td>\n",
       "      <td>99.0</td>\n",
       "      <td>12.166667</td>\n",
       "      <td>1187.0625</td>\n",
       "      <td>-1.33</td>\n",
       "      <td>-2.36</td>\n",
       "      <td>0.49</td>\n",
       "      <td>-2.61</td>\n",
       "      <td>0</td>\n",
       "      <td>0</td>\n",
       "      <td>1</td>\n",
       "    </tr>\n",
       "  </tbody>\n",
       "</table>\n",
       "<p>5 rows × 25 columns</p>\n",
       "</div>"
      ],
      "text/plain": [
       "                    Unnamed: 0  branchid  villageid  treatment    hhid  \\\n",
       "branchid villageid                                                       \n",
       "41       1001                1        41       1001          1  100102   \n",
       "         1001                2        41       1001          1  100102   \n",
       "         1001                3        41       1001          1  100103   \n",
       "         1001                4        41       1001          1  100105   \n",
       "         1001                5        41       1001          1  100106   \n",
       "\n",
       "                    childID  anthro_age  anthro_female  anthro_weight_1  \\\n",
       "branchid villageid                                                        \n",
       "41       1001             1           2              1             5.55   \n",
       "         1001             2           3              1             6.40   \n",
       "         1001             1          46              1            13.70   \n",
       "         1001             1           9              2             7.25   \n",
       "         1001             2          39              2            12.40   \n",
       "\n",
       "                    anthro_weight_2  ...  length     weight        age  wfaz  \\\n",
       "branchid villageid                   ...                                       \n",
       "41       1001                  5.56  ...    58.0   5.570000    60.8750  0.00   \n",
       "         1001                  6.25  ...    64.5   6.350000    91.3125 -0.03   \n",
       "         1001                 13.70  ...    91.5  13.700000  1400.1250 -1.25   \n",
       "         1001                  7.25  ...    65.0   7.333333   273.9375 -0.95   \n",
       "         1001                 12.00  ...    99.0  12.166667  1187.0625 -1.33   \n",
       "\n",
       "                    wfhz  hfaz  bfaz  anemia  neg2_hfaz  neg2_wfhz  \n",
       "branchid villageid                                                  \n",
       "41       1001       0.33 -0.22  0.16       0          0          0  \n",
       "         1001      -1.47  1.52 -1.19       0          0          0  \n",
       "         1001       0.43 -2.60  0.76       0          1          0  \n",
       "         1001       0.38 -2.13  0.40       0          1          0  \n",
       "         1001      -2.36  0.49 -2.61       0          0          1  \n",
       "\n",
       "[5 rows x 25 columns]"
      ]
     },
     "execution_count": 212,
     "metadata": {},
     "output_type": "execute_result"
    }
   ],
   "source": [
    "#using the R-prepared dataset\n",
    "table_4_data = pd.read_csv(\"table_4_data.csv\") \n",
    "table_4_data = table_4_data.set_index(['branchid', 'villageid'], drop = False)\n",
    "table_4_data.head() "
   ]
  },
  {
   "cell_type": "code",
   "execution_count": 213,
   "metadata": {
    "scrolled": true
   },
   "outputs": [],
   "source": [
    "#Panel A: children under 60 months\n",
    "\n",
    "reg_9 = PanelOLS(table_4_data.hfaz,table_4_data.treatment, entity_effects = True)\n",
    "res_9 = reg_9.fit(cov_type = 'clustered', clusters = table_4_data.villageid) \n",
    "reg_10 = PanelOLS(table_4_data.neg2_hfaz,table_4_data.treatment, entity_effects = True)\n",
    "res_10= reg_10.fit(cov_type = 'clustered', clusters = table_4_data.villageid)   \n",
    "reg_11= PanelOLS(table_4_data.wfhz,table_4_data.treatment, entity_effects = True)\n",
    "res_11= reg_11.fit(cov_type = 'clustered', clusters = table_4_data.villageid) \n",
    "reg_12= PanelOLS(table_4_data.neg2_wfhz,table_4_data.treatment, entity_effects = True)\n",
    "res_12= reg_12.fit(cov_type = 'clustered', clusters = table_4_data.villageid) \n",
    "reg_13= PanelOLS(table_4_data.anthro_hemoglobin,table_4_data.treatment, entity_effects = True)\n",
    "res_13= reg_13.fit(cov_type = 'clustered', clusters = table_4_data.villageid)\n",
    "reg_14= PanelOLS(table_4_data.anemia,table_4_data.treatment, entity_effects = True)\n",
    "res_14= reg_14.fit(cov_type = 'clustered', clusters = table_4_data.villageid)\n",
    "\n",
    "#print(res_9, res_10, res_11, res_12, res_13, res_14)                                                  "
   ]
  },
  {
   "cell_type": "code",
   "execution_count": 214,
   "metadata": {},
   "outputs": [],
   "source": [
    "#Panel B: Children under 24 months\n",
    "\n",
    "table_4_under_24 = table_4_data[table_4_data.anthro_age <= 24] \n",
    "#table_4_under_24.head()\n",
    "reg_15 = PanelOLS(table_4_under_24.hfaz,table_4_under_24.treatment, entity_effects = True)\n",
    "res_15 = reg_15.fit(cov_type = 'clustered', clusters = table_4_under_24.villageid) \n",
    "reg_16 = PanelOLS(table_4_under_24.neg2_hfaz,table_4_under_24.treatment, entity_effects = True)\n",
    "res_16 = reg_16.fit(cov_type = 'clustered', clusters = table_4_under_24.villageid)   \n",
    "reg_17 = PanelOLS(table_4_under_24.wfhz,table_4_under_24.treatment, entity_effects = True)\n",
    "res_17= reg_17.fit(cov_type = 'clustered', clusters = table_4_under_24.villageid) \n",
    "reg_18 = PanelOLS(table_4_under_24.neg2_wfhz,table_4_under_24.treatment, entity_effects = True)\n",
    "res_18= reg_18.fit(cov_type = 'clustered', clusters = table_4_under_24.villageid) \n",
    "reg_19= PanelOLS(table_4_under_24.anthro_hemoglobin,table_4_under_24.treatment, entity_effects = True)\n",
    "res_19= reg_19.fit(cov_type = 'clustered', clusters = table_4_under_24.villageid)\n",
    "reg_20= PanelOLS(table_4_under_24.anemia,table_4_under_24.treatment, entity_effects = True)\n",
    "res_20= reg_20.fit(cov_type = 'clustered', clusters = table_4_under_24.villageid)\n",
    "\n",
    "#print(res_15, res_16, res_17, res_18, res_19, res_20) "
   ]
  },
  {
   "cell_type": "code",
   "execution_count": 215,
   "metadata": {},
   "outputs": [],
   "source": [
    "#Panel C: Children between 24 and 60 months\n",
    "\n",
    "between_24_60 = table_4_data[(table_4_data[\"anthro_age\"] >= 24) & (table_4_data[\"anthro_age\"] <= 60)]\n",
    "#between_24_60.head(100)\n",
    "reg_21 = PanelOLS(between_24_60.hfaz,between_24_60.treatment, entity_effects = True)\n",
    "res_21 = reg_21.fit(cov_type = 'clustered', clusters = between_24_60.villageid) \n",
    "reg_22 = PanelOLS(between_24_60.neg2_hfaz,between_24_60.treatment, entity_effects = True)\n",
    "res_22 = reg_22.fit(cov_type = 'clustered', clusters = between_24_60.villageid)   \n",
    "reg_23 = PanelOLS(between_24_60.wfhz,between_24_60.treatment, entity_effects = True)\n",
    "res_23= reg_23.fit(cov_type = 'clustered', clusters = between_24_60.villageid) \n",
    "reg_24 = PanelOLS(between_24_60.neg2_wfhz,between_24_60.treatment, entity_effects = True)\n",
    "res_24= reg_24.fit(cov_type = 'clustered', clusters = between_24_60.villageid) \n",
    "reg_25= PanelOLS(between_24_60.anthro_hemoglobin,between_24_60.treatment, entity_effects = True)\n",
    "res_25= reg_25.fit(cov_type = 'clustered', clusters = between_24_60.villageid)\n",
    "reg_26= PanelOLS(between_24_60.anemia,between_24_60.treatment, entity_effects = True)\n",
    "res_26= reg_26.fit(cov_type = 'clustered', clusters = between_24_60.villageid)\n",
    "\n",
    "#print(res_21, res_22, res_23, res_24, res_25, res_26) "
   ]
  },
  {
   "cell_type": "code",
   "execution_count": 216,
   "metadata": {},
   "outputs": [],
   "source": [
    "#Panel A, mean controls\n",
    "MC_1 = sm.OLS(table_4_data['hfaz'],add_constant(table_4_data['treatment']))\n",
    "res_MC_1 = MC_1.fit()\n",
    "summary1 = res_MC_1.summary2(yname=\"Height for age\", xname=[\"Intercept\", \"Program impact\"],\n",
    "             title=\"Program Impact on Child Weight, Height, Hemoglobin, Mean Controls\", alpha=0.05, float_format='%.4f') \n",
    "\n",
    "MC_2 = sm.OLS(table_4_data['neg2_hfaz'],add_constant(table_4_data['treatment']))\n",
    "res_MC_2 = MC_2.fit()\n",
    "summary2 = res_MC_2.summary2(yname=\"Negative Height for age\", xname=[\"Intercept\", \"Program impact\"],\n",
    "             title=\"Program Impact on Child Weight, Height, Hemoglobin, Mean Controls\", alpha=0.05, float_format='%.4f') \n",
    "\n",
    "MC_3 = sm.OLS(table_4_data['wfhz'],add_constant(table_4_data['treatment']))\n",
    "res_MC_3 = MC_3.fit()\n",
    "summary3 = res_MC_3.summary2(yname=\"Weight for height\", xname=[\"Intercept\", \"Program impact\"],\n",
    "             title=\"Program Impact on Child Weight, Height, Hemoglobin, Mean Controls\", alpha=0.05, float_format='%.4f')\n",
    "\n",
    "MC_4 = sm.OLS(table_4_data['neg2_wfhz'],add_constant(table_4_data['treatment']))\n",
    "res_MC_4 = MC_4.fit()\n",
    "summary4 = res_MC_4.summary2(yname=\"Negative weight for height\", xname=[\"Intercept\", \"Program impact\"],\n",
    "             title=\"Program Impact on Child Weight, Height, Hemoglobin, Mean Controls\", alpha=0.05, float_format='%.4f')\n",
    "\n",
    "MC_5 = sm.OLS(table_4_data['anthro_hemoglobin'],add_constant(table_4_data['treatment']))\n",
    "res_MC_5 = MC_5.fit()\n",
    "summary5 = res_MC_5.summary2(yname=\"Hemoglobin level\", xname=[\"Intercept\", \"Program impact\"],\n",
    "             title=\"Program Impact on Child Weight, Height, Hemoglobin, Mean Controls\", alpha=0.05, float_format='%.4f') \n",
    "\n",
    "MC_6 = sm.OLS(table_4_data['anemia'],add_constant(table_4_data['treatment']))\n",
    "res_MC_6 = MC_6.fit()\n",
    "summary6 = res_MC_6.summary2(yname=\"Anemia\", xname=[\"Intercept\", \"Program impact\"],\n",
    "             title=\"Program Impact on Child Weight, Height, Hemoglobin, Mean Controls\", alpha=0.05, float_format='%.4f') \n",
    "\n",
    "#Panel B, mean controls\n",
    "MC_7 = sm.OLS(table_4_under_24['hfaz'],add_constant(table_4_under_24['treatment']))\n",
    "res_MC_7 = MC_7.fit()\n",
    "summary7 = res_MC_7.summary2(yname=\"Height for age\", xname=[\"Intercept\", \"Program impact\"],\n",
    "             title=\"Program Impact on Child Weight, Height, Hemoglobin, Mean Controls\", alpha=0.05, float_format='%.4f') \n",
    "\n",
    "MC_8 = sm.OLS(table_4_under_24['neg2_hfaz'],add_constant(table_4_under_24['treatment']))\n",
    "res_MC_8 = MC_8.fit()\n",
    "summary8 = res_MC_8.summary2(yname=\"Negative Height for age\", xname=[\"Intercept\", \"Program impact\"],\n",
    "             title=\"Program Impact on Child Weight, Height, Hemoglobin, Mean Controls\", alpha=0.05, float_format='%.4f') \n",
    "\n",
    "MC_9 = sm.OLS(table_4_under_24['wfhz'],add_constant(table_4_under_24['treatment']))\n",
    "res_MC_9 = MC_9.fit()\n",
    "summary9 = res_MC_9.summary2(yname=\"Weight for height\", xname=[\"Intercept\", \"Program impact\"],\n",
    "             title=\"Program Impact on Child Weight, Height, Hemoglobin, Mean Controls\", alpha=0.05, float_format='%.4f')\n",
    "\n",
    "MC_10 = sm.OLS(table_4_under_24['neg2_wfhz'],add_constant(table_4_under_24['treatment']))\n",
    "res_MC_10 = MC_10.fit()\n",
    "summary10 = res_MC_10.summary2(yname=\"Negative weight for height\", xname=[\"Intercept\", \"Program impact\"],\n",
    "             title=\"Program Impact on Child Weight, Height, Hemoglobin, Mean Controls\", alpha=0.05, float_format='%.4f')\n",
    "\n",
    "MC_11 = sm.OLS(table_4_under_24['anthro_hemoglobin'],add_constant(table_4_under_24['treatment']))\n",
    "res_MC_11 = MC_11.fit()\n",
    "summary11 = res_MC_11.summary2(yname=\"Hemoglobin level\", xname=[\"Intercept\", \"Program impact\"],\n",
    "             title=\"Program Impact on Child Weight, Height, Hemoglobin, Mean Controls\", alpha=0.05, float_format='%.4f') \n",
    "\n",
    "MC_12 = sm.OLS(table_4_under_24['anemia'],add_constant(table_4_under_24['treatment']))\n",
    "res_MC_12 = MC_12.fit()\n",
    "summary12 = res_MC_12.summary2(yname=\"Anemia\", xname=[\"Intercept\", \"Program impact\"],\n",
    "             title=\"Program Impact on Child Weight, Height, Hemoglobin, Mean Controls\", alpha=0.05, float_format='%.4f') \n",
    "\n",
    "#Panel C, mean controls\n",
    "MC_13 = sm.OLS(between_24_60['hfaz'],add_constant(between_24_60['treatment']))\n",
    "res_MC_13 = MC_13.fit()\n",
    "summary13 = res_MC_13.summary2(yname=\"Height for age\", xname=[\"Intercept\", \"Program impact\"],\n",
    "             title=\"Program Impact on Child Weight, Height, Hemoglobin, Mean Controls\", alpha=0.05, float_format='%.4f') \n",
    "\n",
    "MC_14 = sm.OLS(between_24_60['neg2_hfaz'],add_constant(between_24_60['treatment']))\n",
    "res_MC_14 = MC_14.fit()\n",
    "summary14 = res_MC_14.summary2(yname=\"Negative Height for age\", xname=[\"Intercept\", \"Program impact\"],\n",
    "             title=\"Program Impact on Child Weight, Height, Hemoglobin, Mean Controls\", alpha=0.05, float_format='%.4f') \n",
    "\n",
    "MC_15 = sm.OLS(between_24_60['wfhz'],add_constant(between_24_60['treatment']))\n",
    "res_MC_15 = MC_15.fit()\n",
    "summary15 = res_MC_15.summary2(yname=\"Weight for height\", xname=[\"Intercept\", \"Program impact\"],\n",
    "             title=\"Program Impact on Child Weight, Height, Hemoglobin, Mean Controls\", alpha=0.05, float_format='%.4f')\n",
    "\n",
    "MC_16 = sm.OLS(between_24_60['neg2_wfhz'],add_constant(between_24_60['treatment']))\n",
    "res_MC_16 = MC_16.fit()\n",
    "summary16 = res_MC_16.summary2(yname=\"Negative weight for height\", xname=[\"Intercept\", \"Program impact\"],\n",
    "             title=\"Program Impact on Child Weight, Height, Hemoglobin, Mean Controls\", alpha=0.05, float_format='%.4f')\n",
    "\n",
    "MC_17 = sm.OLS(between_24_60['anthro_hemoglobin'],add_constant(between_24_60['treatment']))\n",
    "res_MC_17 = MC_17.fit()\n",
    "summary17 = res_MC_17.summary2(yname=\"Hemoglobin level\", xname=[\"Intercept\", \"Program impact\"],\n",
    "             title=\"Program Impact on Child Weight, Height, Hemoglobin, Mean Controls\", alpha=0.05, float_format='%.4f') \n",
    "\n",
    "MC_18 = sm.OLS(between_24_60['anemia'],add_constant(between_24_60['treatment']))\n",
    "res_MC_18 = MC_18.fit()\n",
    "summary18 = res_MC_18.summary2(yname=\"Anemia\", xname=[\"Intercept\", \"Program impact\"],\n",
    "             title=\"Program Impact on Child Weight, Height, Hemoglobin, Mean Controls\", alpha=0.05, float_format='%.4f') \n",
    "\n",
    "\n",
    "\n",
    "\n",
    "#print(summary1, summary2, summary3, summary4, summary5, summary6,\n",
    " #     summary7, summary8, summary9, summary10, summary11, summary12,\n",
    " #     summary13, summary14, summary15, summary16, summary17, summary18)"
   ]
  },
  {
   "cell_type": "markdown",
   "metadata": {},
   "source": [
    "R's output of z-scores is a little different from STATA, but are still in the range of possible values. This made my estimations close, but not completely the same as in the original. However, the interpretation of effect sizes and strength persists. So, columns (1) - (2) show the program improved stunting for children under 5 years. The share of stunted children by WHO standards decreased by 3 percentage points. Decrease in stunting is observed in all age groups. The original findings indicate no observable effect on wasting.  This replication however asserts a positive impact of the program on wasting (wasting is reduced), columns (3)-(4), though the estimates are not significant. Finally, I found a strong effect of the program on hemoglobin levels. In fact, out of all health outcomes hemoglobin enjoys the biggest impact of the CHP program in all three categories, and this result is highly significant for all children under 5 (Panel A) and children between 24-60 months of age. The original finading indicates a 2.7 percentage point decrease in anemic children, in my replication it is almost identical- a decrease of 3 percentage points."
   ]
  },
  {
   "cell_type": "code",
   "execution_count": 217,
   "metadata": {},
   "outputs": [
    {
     "data": {
      "text/plain": [
       "<matplotlib.legend.Legend at 0x1e38e73bb48>"
      ]
     },
     "execution_count": 217,
     "metadata": {},
     "output_type": "execute_result"
    },
    {
     "data": {
      "image/png": "[encoded data removed]",
      "text/plain": [
       "<Figure size 576x396 with 1 Axes>"
      ]
     },
     "metadata": {},
     "output_type": "display_data"
    }
   ],
   "source": [
    "treated_u5 = table_4_data.loc[table_4_data['treatment'] == 1]\n",
    "control_u5 = table_4_data.loc[table_4_data['treatment'] == 0]\n",
    "ax = sns.distplot(treated_u5['anthro_hemoglobin'], color = \"deeppink\", hist = False, label = \"treatment\")\n",
    "ax = sns.distplot(control_u5['anthro_hemoglobin'], color = \"black\", hist = False, label = \"control\") \n",
    "ax.set_title(\"Figure 9. Hemoglobin levels of children under 5 in the treated and control villages\", fontsize = 14, fontweight = 'bold' )\n",
    "ax.legend(bbox_to_anchor=(0.5, 0.5, 1, 0.5)) "
   ]
  },
  {
   "cell_type": "markdown",
   "metadata": {},
   "source": [
    "#### C. *Intermediate Outcomes* "
   ]
  },
  {
   "cell_type": "markdown",
   "metadata": {},
   "source": [
    "Apart from the main result that the program reduced child mortality, the paper estimated treatment effect on a vector of health related outcomes.  \n",
    "\n",
    "*Table 5* evaluates the extent of CHPs' interaction with households and implicitly the quality of this interaction. My replication yields the same results as in the paper, with only minor difference for the last two question. As shown in *Table 5* households in the treatment villages were better aware of health related issues."
   ]
  },
  {
   "cell_type": "markdown",
   "metadata": {},
   "source": [
    "#### Table 5 - Program Impact on CHP Interaction and Health Knowledge"
   ]
  },
  {
   "cell_type": "markdown",
   "metadata": {},
   "source": [
    "| | HH visited by CHP in last 30 days | Diarrhea from drinking untreated water | Zinc is effective against diarrhea | Mosquito bites are the only cause of malaria | Aware of foods with added nutrients | Bed nets can help prevent malaria |Women should deliver at hospital | Average standardized effect (2)-(7) |     \n",
    "| --- | --- | --- | --- | --- | --- | --- | --- | --- |\n",
    "| Dependent variable | **(1)** | **(2)** | **(3)** | **(4)** | **(5)** | **(6)** | **(7)** | **(8)** |                       \n",
    "| Program impact | 0.175 | 0.041 | 0.036 | 0.027 | 0.047 | 0.002 | 0.0004 | 0.065 |  \n",
    "| Std.errors | (0.021) | (0.013) | (0.12) | (0.009) | (0.016) | (0.003) | (0.001) |  |  \n",
    "| Branch FE | Yes | Yes | Yes | Yes | Yes | Yes | Yes | Yes |    \n",
    "| Observations | 7018 | 7018 | 7018 | 7018 | 7018 | 7018  | 7013 |   |   \n",
    "| Within $R^2$ | 0.064 | 0.0018 | 0.0019 | 0.0025 | 0.0024 | 8.755 * $10^{-5}$ | 2.025 * $10^{-5}$ |  |   "
   ]
  },
  {
   "cell_type": "markdown",
   "metadata": {},
   "source": [
    "<font size=\"2\">Table 5: dependent variables (1)-(8) are dummies. (1) Household(HH) was visited by CHP in the previous 30 days; (2) respondent knows about transmission of diarrhea through untreated water; (3) respondent believes zink soothes diarrhea; (4) respondent believes malaria is transmitted solely through mosquito bites; (5) respondent knows about the existence of foods with added nutrients or vitamins; (6) respondent believes bed nets can prevent getting ill with malaria; (7) respondent believes child bearing should be carried out at hospitals or other health facilities. Average standardized effect reports the overall average treatment effect on the dependent variables.Each regression includes a branch fixed effect. There are 12 branches. Standard errors are clustered at the village level. </font>"
   ]
  },
  {
   "cell_type": "code",
   "execution_count": 226,
   "metadata": {},
   "outputs": [],
   "source": [
    "#the initial stata file is in version 100 and thus not supported by pandas; saved the initial dataset in Stata 12 version\n",
    "table_5_data = pd.read_stata(\"AEJ2018_HHmain_old_stata_version.dta\")\n",
    "table_5_data = table_5_data.set_index(['branchid', 'villageid'], drop = False)\n",
    "#table_5_data.head()  "
   ]
  },
  {
   "cell_type": "code",
   "execution_count": 229,
   "metadata": {},
   "outputs": [],
   "source": [
    "#Household visited by a community health promoter in last 30 days\n",
    "reg_27 = PanelOLS(table_5_data.HH_interactions_CHPlastmonth, table_5_data.treatment, entity_effects = True) \n",
    "res_27 = reg_27.fit(cov_type = 'clustered',clusters = table_5_data.villageid) \n",
    "#Diahrrhea from drinking untreated water\n",
    "reg_28 = PanelOLS(table_5_data.HH_knowledge_diarrhea, table_5_data.treatment, entity_effects = True) \n",
    "res_28 = reg_28.fit(cov_type = 'clustered', clusters = table_5_data.villageid) \n",
    "#Zinc is effective against diarrhea \n",
    "reg_29 = PanelOLS(table_5_data.HH_knowledge_diarrheazinc, table_5_data.treatment, entity_effects = True) \n",
    "res_29 = reg_29.fit(cov_type = 'clustered', clusters = table_5_data.villageid) \n",
    "#Mosquito bites are the only cause of malaria \n",
    "reg_30 = PanelOLS(table_5_data.HH_knowledge_malaria_onlymosq, table_5_data.treatment, entity_effects = True) \n",
    "res_30 = reg_30.fit(cov_type = 'clustered', clusters = table_5_data.villageid)  \n",
    "#Aware of food with added nutrients \n",
    "reg_31 = PanelOLS(table_5_data.HH_knowledge_nutrients, table_5_data.treatment, entity_effects = True) \n",
    "res_31 = reg_31.fit(cov_type = 'clustered', clusters = table_5_data.villageid) \n",
    "#Women should deliver at hospital \n",
    "reg_32 = PanelOLS(table_5_data.HH_knowledge_delivery_hf, table_5_data.treatment, entity_effects = True)\n",
    "res_32 = reg_32.fit(cov_type = 'clustered', clusters = table_5_data.villageid) \n",
    "#Bed nets can prevent malaria \n",
    "reg_33 = PanelOLS(table_5_data.HH_knowledge_nets, table_5_data.treatment, entity_effects = True)\n",
    "res_33 = reg_33.fit(cov_type = 'clustered', clusters = table_5_data.villageid)\n",
    "\n",
    "#print(res_27, res_28, res_29, res_30, res_31, res_32, res_33)  "
   ]
  },
  {
   "cell_type": "markdown",
   "metadata": {},
   "source": [
    "The last column of *Table 5* estimates the total average effect of the program on CHP interaction and health knowledge. The authors obtained it via the means of *\"seemingly unrelated regression sytem to account for covariance across estimates* (p.171):"
   ]
  },
  {
   "cell_type": "markdown",
   "metadata": {},
   "source": [
    "$$\\Upsilon = [I_{n}\\times T]\\beta + \\mu$$  "
   ]
  },
  {
   "cell_type": "markdown",
   "metadata": {},
   "source": [
    "I use a more intuitive and straightforward approach: (i) standardize each treatment effect (ii) find their average. The outcome  coincides with the paper's result. "
   ]
  },
  {
   "cell_type": "code",
   "execution_count": 220,
   "metadata": {},
   "outputs": [
    {
     "name": "stdout",
     "output_type": "stream",
     "text": [
      "Average standardized effect: 0.065\n"
     ]
    }
   ],
   "source": [
    "control_table_5 = table_5_data[table_5_data.treatment==0] \n",
    "control_table_5 = control_table_5.set_index(['branchid', 'villageid'], drop = False)\n",
    "\n",
    "control_table_5['HH_knowledge_nutrients'] = np.where((control_table_5['HH_knowledge_nutrients'] == 'yes'), 1,0)\n",
    "control_table_5['HH_knowledge_nets'] = np.where((control_table_5['HH_knowledge_nets'] == 'yes'), 1,0)\n",
    "\n",
    "std_deviation_diarrhea = np.std(control_table_5.HH_knowledge_diarrhea) \n",
    "std_deviation_zink = np.std(control_table_5.HH_knowledge_diarrheazinc)\n",
    "std_deviation_mosquito = np.std(control_table_5.HH_knowledge_malaria_onlymosq) \n",
    "std_deviation_nutrients = np.std(control_table_5.HH_knowledge_nutrients)\n",
    "std_deviation_nets = np.std(control_table_5.HH_knowledge_nets)\n",
    "std_deviation_delivery = np.std(control_table_5.HH_knowledge_delivery_hf) \n",
    "std_deviations = np.array([std_deviation_diarrhea, std_deviation_zink, std_deviation_mosquito, std_deviation_nutrients,\n",
    "                           std_deviation_nets,std_deviation_delivery])\n",
    "\n",
    "standardized_betas = pd.DataFrame(np.array([[0.041, 0.036,0.027,0.047,0.002,0.000], \n",
    "                                        [std_deviation_diarrhea, std_deviation_zink,\n",
    "                                 std_deviation_mosquito, std_deviation_nutrients,\n",
    "                                 std_deviation_nets, std_deviation_delivery]]),\n",
    "                                  columns=['diarrhea', 'zink', 'mosquito', 'nutrients', 'nets', 'delivery']).T \n",
    "standardized_betas.columns = ['beta', 'std'] \n",
    "\n",
    "standardized_betas['std_beta'] = standardized_betas['beta']/standardized_betas['std'] \n",
    "average_standardized_effect = standardized_betas['std_beta'].mean() \n",
    " \n",
    "print(f\"Average standardized effect: {average_standardized_effect:5.3f}\")    "
   ]
  },
  {
   "cell_type": "markdown",
   "metadata": {},
   "source": [
    "#### Table 6 - Program Impact on Preventive and Treatment Services  "
   ]
  },
  {
   "cell_type": "markdown",
   "metadata": {},
   "source": [
    "| | Child delivery at hospital | Follow-up visit first week post delivery | Child was breastfed | Child took vitamin A | Child under treated net last night |  \n",
    "| --- | --- | --- | --- | --- | --- | \n",
    "| Dependent variable | **(1)** | **(2)** | **(3)** | **(4)** | **(5)** | \n",
    "| Program Impact | 0.010 | 0.0809 | -0.005 | 0.0006 | 0.051 | \n",
    "| Std.errors | (0.020) | 0.020 | 0.003 | 0.0006 | 0.014|\n",
    "| Branch FE | Yes | Yes | Yes | Yes | Yes |\n",
    "| Observations | 1955 | 1925 | 10953 | 10953 | 10953 |\n",
    "| Within $R^2$ | 0.0002 | 0.0127 | 0.0004 | 4.553 * $10{^-7}$ | 0.0034 |"
   ]
  },
  {
   "cell_type": "markdown",
   "metadata": {},
   "source": [
    "| | Treat water before drinking | Child fully immunized | Child w/diarrhea treated w/ORS/zinc | Child w/malaria treated w/ACT | Average standardized effect (1)-(9) |  \n",
    "| --- | --- | --- | --- | --- | --- | \n",
    "| Dependent variable | **(6)** | **(7)** | **(8)** | **(9)** | **(10)** | \n",
    "| Program Impact | 0.0372 | -0.0023 | 0.00533 | 0.0039 | 0.061 | \n",
    "| Std.errors | (0.015) | 0.013 | 0.020 | 0.015 | |\n",
    "| Branch FE | Yes | Yes | Yes | Yes | Yes |\n",
    "| Observations | 7018 | 2041 | 2686 | 5422 |  |\n",
    "| Within $R^2$ | 0.0025 | 1.541 * $10^{-5}$ | 0.0030 | 1.641 * $10^{-5}$ |  |"
   ]
  },
  {
   "cell_type": "markdown",
   "metadata": {},
   "source": [
    "<font size=\"2\">Table 6: dependent variables (1)-(9) are dummies. (1) respondent gave birth at a hospital or another health facility (only women who had given birth in the last 12 months); (2) HH was had a follow-up viit by a health care provider in the first week after delivery (only women who had given birth in the last 12 months) ; (3) child under 5 was breastfed; (4) child ever took vitamin A; (5) child slept under a treated bed the previous night; (6) respondent treats water before drinking; (7) child was fully immunized(for children younger than 12 months; (8) the child with diarrhea was treated with ORS/zinc drugs (asked only if the child had been sick with diarrhea in the previous 12 months); (9) the child with malaria was treated with ACT for at least 3 days (applies only to children who had been sick with malaria in the last 12 months=. Average standardized effect reports the overall average treatment effect on the dependent variables.Each regression includes a branch fixed effect. There are 12 branches. Standard errors are clustered at the village level. </font>"
   ]
  },
  {
   "cell_type": "code",
   "execution_count": 231,
   "metadata": {},
   "outputs": [],
   "source": [
    "#Child delivery at HF \n",
    "delivery = pd.read_stata(\"AEJ2018_postnatal.dta\") \n",
    "delivery = delivery.set_index(['branchid', 'villageid'], drop = False)\n",
    "reg_33 = PanelOLS(delivery.postnatal_nothome, delivery.treatment, entity_effects = True)\n",
    "res_33 = reg_33.fit(cov_type = 'clustered', clusters = delivery.villageid)  \n",
    "\n",
    "#Follow-up visit first week post delivery \n",
    "reg_34 = PanelOLS(delivery.postnatal_followup, delivery.treatment, entity_effects = True)\n",
    "res_34 = reg_34.fit(cov_type = 'clustered', clusters = delivery.villageid) \n",
    "\n",
    "#Child fully immunized \n",
    "reg_35 = PanelOLS(delivery.postnatal_fully_immunized, delivery.treatment, entity_effects = True)\n",
    "res_35 = reg_35.fit(cov_type = 'clustered', clusters = delivery.villageid)\n",
    "\n",
    "#Child was breastfed \n",
    "breastfeeding = pd.read_stata(\"AEJ2018_HHroster_u5.dta\") \n",
    "breastfeeding = breastfeeding.set_index(['branchid', 'villageid'], drop = False) \n",
    "reg_36 = PanelOLS(breastfeeding.HHroster_u5_breastfed, breastfeeding.treatment, entity_effects = True)\n",
    "res_36 = reg_36.fit(cov_type = 'clustered', clusters = breastfeeding.villageid) \n",
    "\n",
    "#Child took vitamin A \n",
    "vitA = pd.read_stata(\"AEJ2018_fortified.dta\") \n",
    "vitA = vitA.set_index(['branchid', 'villageid'], drop = False) \n",
    "reg_37 = PanelOLS(vitA.fortified_vitA, vitA.treatment, entity_effects = True)\n",
    "res_37 = reg_37.fit(cov_type = 'clustered', clusters = vitA.villageid) \n",
    "\n",
    "#Child under treated net last night \n",
    "malaria = pd.read_stata(\"AEJ2018_malaria.dta\")   \n",
    "malaria = malaria.set_index(['branchid', 'villageid'], drop = False) \n",
    "reg_38 = PanelOLS(malaria.malaria_treatednet, malaria.treatment, entity_effects = True) \n",
    "res_38 = reg_38.fit(cov_type = 'clustered', clusters = malaria.villageid) \n",
    "\n",
    "#Child with malaria treated with ACT \n",
    "reg_39 = PanelOLS(malaria.malaria_ACT_3d, malaria.treatment, entity_effects = True) \n",
    "res_39 = reg_39.fit(cov_type = 'clustered', clusters = malaria.villageid)\n",
    "\n",
    "#Treat water before drinking \n",
    "reg_40 = PanelOLS(table_5_data.HH_bheavior_treatwater, table_5_data.treatment, entity_effects = True) \n",
    "res_40 = reg_40.fit(cov_type = 'clustered', clusters = table_5_data.villageid)\n",
    "\n",
    "#Child with dirrhea treated with ORS/zinc \n",
    "diarrhea = pd.read_stata(\"AEJ2018_diarrhea.dta\") \n",
    "diarrhea = diarrhea.set_index(['branchid', 'villageid'], drop = False)\n",
    "reg_41 = PanelOLS(diarrhea.diarrhea_ORSZinc, diarrhea.treatment, entity_effects = True) \n",
    "res_41 = reg_41.fit(cov_type = 'clustered', clusters = diarrhea.villageid) \n",
    "\n",
    "#print(res_33, res_34, res_35, res_36, res_37, res_38, res_39, res_40, res_41)    "
   ]
  },
  {
   "cell_type": "code",
   "execution_count": 223,
   "metadata": {
    "scrolled": true
   },
   "outputs": [
    {
     "name": "stdout",
     "output_type": "stream",
     "text": [
      "Average standardized effect: 0.061\n"
     ]
    }
   ],
   "source": [
    "delivery = delivery[['postnatal_nothome', 'postnatal_followup', 'hhid', 'treatment',\n",
    "                     'branchid', 'villageid', 'postnatal_womanID', 'postnatal_fully_immunized']] \n",
    "delivery = delivery.set_index(['branchid', 'villageid'], drop = False) \n",
    "delivery_controls = delivery[delivery.treatment == 0]\n",
    "std_delivery = np.std(delivery_controls.postnatal_nothome)\n",
    "std_followup = np.std(delivery_controls.postnatal_followup)\n",
    "std_immunization = np.std(delivery_controls.postnatal_fully_immunized)\n",
    "\n",
    "malaria = malaria[['malaria_ACT_3d', 'hhid', 'treatment', 'branchid', 'villageid', 'childID', 'malaria_treatednet']] \n",
    "malaria = malaria.set_index(['branchid', 'villageid'], drop = False) \n",
    "malaria_controls = malaria[malaria.treatment == 0] \n",
    "std_malaria = np.std(malaria_controls.malaria_treatednet) \n",
    "std_malaria_ACT = np.std(malaria_controls.malaria_ACT_3d) \n",
    "\n",
    "breastfeeding = breastfeeding[['HHroster_u5_breastfed', 'hhid', 'treatment', 'branchid', 'villageid', 'childID']] \n",
    "breastfeeding = breastfeeding.set_index(['branchid', 'villageid'], drop = False) \n",
    "breast_controls = breastfeeding[breastfeeding.treatment == 0]\n",
    "std_breastfed = np.std(breast_controls.HHroster_u5_breastfed)\n",
    "\n",
    "vitA = vitA[['fortified_vitA', 'hhid', 'treatment', 'branchid', 'villageid', 'childID']] \n",
    "vitA = vitA.set_index(['branchid', 'villageid'], drop = False) \n",
    "vitA_controls = vitA[vitA.treatment == 0]\n",
    "std_vitA = np.std(vitA_controls.fortified_vitA) \n",
    "\n",
    "water = table_5_data[['HH_bheavior_treatwater', 'hhid', 'treatment', 'branchid', 'villageid']] \n",
    "water = water.set_index(['branchid', 'villageid'], drop = False) \n",
    "water_controls = water[water.treatment == 0] \n",
    "water_controls['HH_bheavior_treatwater'] = np.where((water_controls['HH_bheavior_treatwater'] == 'yes'), 1,0)\n",
    "std_water = np.std(water_controls.HH_bheavior_treatwater) \n",
    "\n",
    "diarrhea = diarrhea[['diarrhea_ORSZinc', 'hhid', 'treatment', 'branchid', 'villageid', 'childID']]\n",
    "diarrhea = diarrhea.set_index(['branchid', 'villageid'], drop = False) \n",
    "diarrhea_controls = diarrhea[diarrhea.treatment==0] \n",
    "std_diarrhea = np.std(diarrhea_controls.diarrhea_ORSZinc)\n",
    "\n",
    "std_deviations = np.array([std_delivery, std_followup, std_immunization, std_malaria,\n",
    "                          std_malaria_ACT, std_breastfed, std_vitA, std_water, std_diarrhea]) \n",
    "\n",
    "standardized_betas = pd.DataFrame(np.array([[0.010, 0.0809, -0.0023, 0.0510, 0.0039, -0.0051, 0.0006, 0.0372, 0.0533], \n",
    "                                        [std_delivery, std_followup, std_immunization, std_malaria,\n",
    "                          std_malaria_ACT, std_breastfed, std_vitA, std_water, std_diarrhea]]),\n",
    "                                  columns=['delivery', 'follow-up', 'immunization', 'malaria', 'malaria_ACT',\n",
    "                                           'breastfed', 'vitamin A', 'water', 'diarrhea']).T \n",
    "standardized_betas.columns = ['beta', 'std'] \n",
    "\n",
    "standardized_betas['std_beta'] = standardized_betas['beta']/standardized_betas['std'] \n",
    "average_standardized_effect = standardized_betas['std_beta'].mean() \n",
    " \n",
    "print(f\"Average standardized effect: {average_standardized_effect:5.3f}\")  "
   ]
  },
  {
   "cell_type": "markdown",
   "metadata": {},
   "source": [
    "###  III. Discussion and extension"
   ]
  },
  {
   "cell_type": "markdown",
   "metadata": {},
   "source": [
    "This study was a randomized clustred trial. While the authors do not explicitly explain this choice to assign treatment at the village level and not, for example, at the level of households, we can clearly see the benefit of a clustered experiment in this study. In particular, it is a sound way to disable close interaction between units and, hence, to avoid the noise from a spillover effect. There are, though, three features of the study design that do not allow us to automatically assume that there was no sufficient interaction among the units:   \n",
    "\n",
    " - CHPs were not forbidden to interact with untreated villages, including those in the control group. On the one hand recommendation was given to focus on the cluster they have been assigned to, but on the other hand given that there exist financial incentives, CHPs may engage in selling products and services to villages in the control group (p.163);  \n",
    " - at the same time households outside the treatment villages could visit a CHP in a treatment cluster (p.163);\n",
    " - maps in the original paper (pp.158, 185) show the geographical spread of the control and treatment clusters. Putting aside thoughts on geography, landscape, and logistics, we see that the study villages are not at extreme edges of their zones, but instead form a grouping.   \n",
    "\n",
    "With the data available, I made an attempt to train a k-nn classifier to predict deaths just based on a set of location covariates. I used the following variables to capture spacial dependency: \n",
    "\n",
    " - distance to main road; \n",
    " - distance to electricity transmission line; \n",
    " - ditance to health centre; \n",
    " - number of health centers within 5 km; \n",
    " - distance to hospital. \n",
    " \n",
    "Since these covariates bear no meaning if we consider different distiricts or zones, I train my classifier on  a single zone, for example, only in Arua. "
   ]
  },
  {
   "cell_type": "code",
   "execution_count": 289,
   "metadata": {},
   "outputs": [
    {
     "name": "stderr",
     "output_type": "stream",
     "text": [
      "C:\\Users\\ZEF\\anaconda3\\lib\\site-packages\\pandas\\io\\stata.py:1409: UnicodeWarning: \n",
      "One or more strings in the dta file could not be decoded using utf-8, and\n",
      "so the fallback encoding of latin-1 is being used.  This can happen when a file\n",
      "has been incorrectly encoded by Stata or some other software. You should verify\n",
      "the string values returned are correct.\n",
      "  warnings.warn(msg, UnicodeWarning)\n"
     ]
    },
    {
     "data": {
      "text/html": [
       "<div>\n",
       "<style scoped>\n",
       "    .dataframe tbody tr th:only-of-type {\n",
       "        vertical-align: middle;\n",
       "    }\n",
       "\n",
       "    .dataframe tbody tr th {\n",
       "        vertical-align: top;\n",
       "    }\n",
       "\n",
       "    .dataframe thead th {\n",
       "        text-align: right;\n",
       "    }\n",
       "</style>\n",
       "<table border=\"1\" class=\"dataframe\">\n",
       "  <thead>\n",
       "    <tr style=\"text-align: right;\">\n",
       "      <th></th>\n",
       "      <th>branchid</th>\n",
       "      <th>branchid</th>\n",
       "      <th>villageid</th>\n",
       "      <th>villageid</th>\n",
       "      <th>village_distance_road</th>\n",
       "      <th>village_distance_electricity</th>\n",
       "      <th>village_distance_HOSP</th>\n",
       "      <th>village_distance_HF</th>\n",
       "      <th>village_HF_within5km</th>\n",
       "      <th>hhid</th>\n",
       "      <th>hhid</th>\n",
       "      <th>death_u5</th>\n",
       "    </tr>\n",
       "  </thead>\n",
       "  <tbody>\n",
       "    <tr>\n",
       "      <th>0</th>\n",
       "      <td>41.0</td>\n",
       "      <td>41</td>\n",
       "      <td>1003.0</td>\n",
       "      <td>1001</td>\n",
       "      <td>6.00096</td>\n",
       "      <td>4.264567</td>\n",
       "      <td>5.418919</td>\n",
       "      <td>0.915856</td>\n",
       "      <td>4.0</td>\n",
       "      <td>100301.0</td>\n",
       "      <td>100102</td>\n",
       "      <td>0</td>\n",
       "    </tr>\n",
       "    <tr>\n",
       "      <th>1</th>\n",
       "      <td>41.0</td>\n",
       "      <td>41</td>\n",
       "      <td>1003.0</td>\n",
       "      <td>1001</td>\n",
       "      <td>6.00096</td>\n",
       "      <td>4.264567</td>\n",
       "      <td>5.418919</td>\n",
       "      <td>0.915856</td>\n",
       "      <td>4.0</td>\n",
       "      <td>100302.0</td>\n",
       "      <td>100102</td>\n",
       "      <td>0</td>\n",
       "    </tr>\n",
       "    <tr>\n",
       "      <th>2</th>\n",
       "      <td>41.0</td>\n",
       "      <td>41</td>\n",
       "      <td>1003.0</td>\n",
       "      <td>1001</td>\n",
       "      <td>6.00096</td>\n",
       "      <td>4.264567</td>\n",
       "      <td>5.418919</td>\n",
       "      <td>0.915856</td>\n",
       "      <td>4.0</td>\n",
       "      <td>100304.0</td>\n",
       "      <td>100103</td>\n",
       "      <td>0</td>\n",
       "    </tr>\n",
       "    <tr>\n",
       "      <th>3</th>\n",
       "      <td>41.0</td>\n",
       "      <td>41</td>\n",
       "      <td>1003.0</td>\n",
       "      <td>1001</td>\n",
       "      <td>6.00096</td>\n",
       "      <td>4.264567</td>\n",
       "      <td>5.418919</td>\n",
       "      <td>0.915856</td>\n",
       "      <td>4.0</td>\n",
       "      <td>100305.0</td>\n",
       "      <td>100105</td>\n",
       "      <td>0</td>\n",
       "    </tr>\n",
       "    <tr>\n",
       "      <th>4</th>\n",
       "      <td>41.0</td>\n",
       "      <td>41</td>\n",
       "      <td>1003.0</td>\n",
       "      <td>1001</td>\n",
       "      <td>6.00096</td>\n",
       "      <td>4.264567</td>\n",
       "      <td>5.418919</td>\n",
       "      <td>0.915856</td>\n",
       "      <td>4.0</td>\n",
       "      <td>100306.0</td>\n",
       "      <td>100106</td>\n",
       "      <td>0</td>\n",
       "    </tr>\n",
       "  </tbody>\n",
       "</table>\n",
       "</div>"
      ],
      "text/plain": [
       "   branchid  branchid  villageid  villageid  village_distance_road  \\\n",
       "0      41.0        41     1003.0       1001                6.00096   \n",
       "1      41.0        41     1003.0       1001                6.00096   \n",
       "2      41.0        41     1003.0       1001                6.00096   \n",
       "3      41.0        41     1003.0       1001                6.00096   \n",
       "4      41.0        41     1003.0       1001                6.00096   \n",
       "\n",
       "   village_distance_electricity  village_distance_HOSP  village_distance_HF  \\\n",
       "0                      4.264567               5.418919             0.915856   \n",
       "1                      4.264567               5.418919             0.915856   \n",
       "2                      4.264567               5.418919             0.915856   \n",
       "3                      4.264567               5.418919             0.915856   \n",
       "4                      4.264567               5.418919             0.915856   \n",
       "\n",
       "   village_HF_within5km      hhid    hhid  death_u5  \n",
       "0                   4.0  100301.0  100102         0  \n",
       "1                   4.0  100302.0  100102         0  \n",
       "2                   4.0  100304.0  100103         0  \n",
       "3                   4.0  100305.0  100105         0  \n",
       "4                   4.0  100306.0  100106         0  "
      ]
     },
     "execution_count": 289,
     "metadata": {},
     "output_type": "execute_result"
    }
   ],
   "source": [
    "df_location = pd.read_stata(\"AEJ2018_HHmain.dta\") \n",
    "df_location = df_location.loc[df_location['district'] == '10 Arua'] \n",
    "df_location = df_location[['district', 'branchid', 'villageid', 'treatment', \n",
    "                           'village_distance_road', 'village_distance_electricity',\n",
    "                           'village_distance_HOSP', 'village_distance_HF',\n",
    "                           'village_HF_within5km', 'hhid']] \n",
    "df.head()"
   ]
  },
  {
   "cell_type": "markdown",
   "metadata": {},
   "source": [
    "A quick inspection of the data reveals that there is a limited numbers of \"main roads\", \"electricity transmission lines\", \"health centers\", \"health centers within 5 km\". So I make an assumption that households who share a lot of these \"location covariates\" are near each other. This is a very strong and shaky assuption that undermines the strength of the classifier.    \n",
    "We also see that household's id contains 6 digits. The first 4 digits are the id of the village which the household belongs to, the last 2 digits are enumeration of the households within one village. So, households whose first 4 digits coincide are located in the same village. So I also toss \"hhid\" into the covariates space.\n",
    "\n",
    "**Choosing k**  \n",
    "The average number of households per cluster is 237, so I set k to 500 to make sure that households outside one's village are considered.  "
   ]
  },
  {
   "cell_type": "code",
   "execution_count": 290,
   "metadata": {},
   "outputs": [
    {
     "name": "stdout",
     "output_type": "stream",
     "text": [
      "f score equals 0.20000000000000004\n",
      "[[189  14]\n",
      " [ 10   3]]\n"
     ]
    }
   ],
   "source": [
    "#data on deaths per hosehold \n",
    "df_deaths = pd.read_stata(\"AEJ2018_child_mortality.dta\") \n",
    "df = pd.concat([df_location, df_deaths], axis=1, sort=False)\n",
    "df['death_u5'] = np.where((df['died']==1) & (df['aad']<60), 1, 0) \n",
    "\n",
    "#keeping only the indicator of death and location covariates\n",
    "df = df[[ 'branchid', 'villageid', \n",
    "       'village_distance_road', 'village_distance_electricity',\n",
    "       'village_distance_HOSP', 'village_distance_HF', 'village_HF_within5km',\n",
    "       'hhid','death_u5']] \n",
    "df = df.dropna(axis=0, how='any')\n",
    "X = df.iloc[:, 0:10]\n",
    "y = df.iloc[:,-1]\n",
    "#80/20 split, as expected performs better than 70/30\n",
    "X_train, X_test, y_train, y_test = train_test_split(X, y, random_state = 0, test_size = 0.2) \n",
    "\n",
    "sc_X = StandardScaler() \n",
    "X_train =  sc_X.fit_transform(X_train) \n",
    "X_test = sc_X.transform(X_test)  \n",
    "classifier = KNeighborsClassifier(n_neighbors = 1, p = 500, weights='distance', metric = 'euclidean') \n",
    "classifier.fit(X_train, y_train) \n",
    "y_pred = classifier.predict(X_test)\n",
    "\n",
    "cm = confusion_matrix(y_test, y_pred) \n",
    "a = f1_score(y_test, y_pred)\n",
    "print(f\"f score equals {a}\") \n",
    "print(cm) "
   ]
  },
  {
   "cell_type": "markdown",
   "metadata": {},
   "source": [
    "The classifier correctly predicted 3 death cases out of 13."
   ]
  },
  {
   "cell_type": "markdown",
   "metadata": {},
   "source": [
    "Taking another district:"
   ]
  },
  {
   "cell_type": "code",
   "execution_count": 291,
   "metadata": {},
   "outputs": [
    {
     "name": "stderr",
     "output_type": "stream",
     "text": [
      "C:\\Users\\ZEF\\anaconda3\\lib\\site-packages\\pandas\\io\\stata.py:1409: UnicodeWarning: \n",
      "One or more strings in the dta file could not be decoded using utf-8, and\n",
      "so the fallback encoding of latin-1 is being used.  This can happen when a file\n",
      "has been incorrectly encoded by Stata or some other software. You should verify\n",
      "the string values returned are correct.\n",
      "  warnings.warn(msg, UnicodeWarning)\n"
     ]
    },
    {
     "name": "stdout",
     "output_type": "stream",
     "text": [
      "f score equals 0.10526315789473685\n",
      "[[133  10]\n",
      " [  7   1]]\n"
     ]
    }
   ],
   "source": [
    "df_location = pd.read_stata(\"AEJ2018_HHmain.dta\") \n",
    "df_location = df_location.loc[df_location['district'] == '14 Mbale'] \n",
    "df_location = df_location[['district', 'branchid', 'villageid', 'treatment', \n",
    "                           'village_distance_road', 'village_distance_electricity',\n",
    "                           'village_distance_HOSP', 'village_distance_HF',\n",
    "                           'village_HF_within5km', 'hhid']]\n",
    "df_deaths = pd.read_stata(\"AEJ2018_child_mortality.dta\") \n",
    "df = pd.concat([df_location, df_deaths], axis=1, sort=False)\n",
    "df['death_u5'] = np.where((df['died']==1) & (df['aad']<60), 1, 0) \n",
    "df.columns \n",
    "df = df[[ 'branchid', 'villageid', \n",
    "       'village_distance_road', 'village_distance_electricity',\n",
    "       'village_distance_HOSP', 'village_distance_HF', 'village_HF_within5km',\n",
    "       'hhid','death_u5']] \n",
    "df = df.dropna(axis=0, how='any')\n",
    "X = df.iloc[:, 0:10]\n",
    "y = df.iloc[:,-1]\n",
    "X_train, X_test, y_train, y_test = train_test_split(X, y, random_state = 0, test_size = 0.2) \n",
    "sc_X = StandardScaler() \n",
    "X_train =  sc_X.fit_transform(X_train) \n",
    "X_test = sc_X.transform(X_test)  \n",
    "classifier = KNeighborsClassifier(n_neighbors = 1, p = 500, weights='distance', metric = 'euclidean') \n",
    "classifier.fit(X_train, y_train) \n",
    "y_pred = classifier.predict(X_test)\n",
    "#y_pred  \n",
    "cm = confusion_matrix(y_test, y_pred) \n",
    "a = f1_score(y_test, y_pred)\n",
    "print(f\"f score equals {a}\") \n",
    "print(cm) "
   ]
  },
  {
   "cell_type": "markdown",
   "metadata": {},
   "source": [
    "The classifier correctly predicted 1 death out of 8."
   ]
  },
  {
   "cell_type": "markdown",
   "metadata": {},
   "source": [
    "So, there is a possibility that the treatment effect of 27% reduction in child mortality is still underestimated and the difference between the treatment and control villages is even stronger."
   ]
  },
  {
   "cell_type": "markdown",
   "metadata": {},
   "source": [
    "### V. Conclusion "
   ]
  },
  {
   "cell_type": "markdown",
   "metadata": {},
   "source": [
    "So, I have replicated the main results by Björkman et.al. My estimates mostly coincide with the results in the original paper. This replication followed the STATA code provided by the authors and used their datasets. In extension I tried to show the possible presence of a spillover effect and that the CHP program impact might be even stronger."
   ]
  },
  {
   "cell_type": "markdown",
   "metadata": {},
   "source": [
    "### Footnotes"
   ]
  },
  {
   "cell_type": "markdown",
   "metadata": {},
   "source": [
    "**1**. <span id=\"fn1\"> The mapping of child mortality was done in R, here is the code (shown, when the code-hiding option is switched off)</span> "
   ]
  },
  {
   "cell_type": "code",
   "execution_count": 224,
   "metadata": {},
   "outputs": [],
   "source": [
    "%%R\n",
    "#preparation of WHO data\n",
    "\n",
    "mortality_rates <- read.csv(\"probability of dying per 1000 live births.csv\")\n",
    "\n",
    "colnames(mortality_rates)\n",
    "#renaming columns for ease\n",
    "names(mortality_rates)[names(mortality_rates)==\"Under.5.mortality.rate\"] <- \"u5\"\n",
    "names(mortality_rates)[names(mortality_rates)==\"Infant.mortality.rate\"] <- \"infants\"\n",
    "names(mortality_rates)[names(mortality_rates)==\"Neonatal.mortality.rate\"] <- \"neonatal\"\n",
    "\n",
    "#####In introduction authors mention 2017 statistics, so I also keep only 2017\n",
    "mortality_rates <- filter(mortality_rates, Year == 2017)\n",
    "\n",
    "#####Grouping countries into 6 categories according to their mortality rates of children under-5\n",
    "mortality_rates$range <- cut2(mortality_rates$u5,7)\n",
    "mortality_rates$group <- as.numeric(cut2(mortality_rates$u5, g=7))\n",
    "\n",
    "#uplading ISO-3 codes for further merging\n",
    "iso_codes <- ISO_3166_1\n",
    "colnames(iso_codes)\n",
    "names(iso_codes)[names(iso_codes)  == \"Alpha_3\"] <- \"ISO3_Code\"\n",
    "iso_codes <- subset(iso_codes, select = c(\"ISO3_Code\", \"Name\"))\n",
    "\n",
    "#merging \n",
    "mortality_rates <- merge(mortality_rates, iso_codes, by.x = \"Country\", by.y = \"Name\", all.x = TRUE)\n",
    "#some countries were not assigned an ISO-3 code\n",
    "######## assigning ISO-3 codes#######\n",
    "mortality_rates$ISO3_Code[which(mortality_rates$Country == \"Bolivia (Plurinational State of)\")] <- \"BOL\"\n",
    "mortality_rates$ISO3_Code[which(mortality_rates$Country == \"CÃ´te d'Ivoire\")] <- \"CIV\"\n",
    "mortality_rates$ISO3_Code[which(mortality_rates$Country == \"Democratic People's Republic of Korea\")] <- \"PRK\"\n",
    "mortality_rates$ISO3_Code[which(mortality_rates$Country == \"Democratic Republic of the Congo\")] <- \"COD\"\n",
    "mortality_rates$ISO3_Code[which(mortality_rates$Country == \"Iran (Islamic Republic of)\")] <- \"IRN\"\n",
    "mortality_rates$ISO3_Code[which(mortality_rates$Country == \"Micronesia (Federated States of)\")] <- \"FSM\"\n",
    "mortality_rates$ISO3_Code[which(mortality_rates$Country == \"Republic of Korea\")] <- \"KOR\"\n",
    "mortality_rates$ISO3_Code[which(mortality_rates$Country == \"Republic of Moldova\")] <- \"MDA\"\n",
    "mortality_rates$ISO3_Code[which(mortality_rates$Country == \"Republic of North Macedonia\")] <- \"MKD\"\n",
    "mortality_rates$ISO3_Code[which(mortality_rates$Country == \"United Kingdom of Great Britain and Northern Ireland\")] <-\"GBR\"\n",
    "mortality_rates$ISO3_Code[which(mortality_rates$Country == \"United Republic of Tanzania\")] <- \"TZA\"\n",
    "mortality_rates$ISO3_Code[which(mortality_rates$Country == \"United States of America\")] <- \"USA\"\n",
    "mortality_rates$ISO3_Code[which(mortality_rates$Country == \"Venezuela (Bolivarian Republic of)\")] <- \"VEN\"  "
   ]
  },
  {
   "cell_type": "markdown",
   "metadata": {},
   "source": [
    "**2.** <span id=\"fn2\"> R packages that cound not be installed via conda, were installed here using:   \n",
    "%%R        \n",
    "install.packages('plm', repos='http://cran.us.r-project.org')</span>"
   ]
  },
  {
   "cell_type": "markdown",
   "metadata": {},
   "source": [
    "**3.** <span id=\"fn3\"> I have a similar problem: https://stackoverflow.com/questions/54507204/how-to-fix-the-absorbing-effect-error-when-trying-to-include-fixed-effects-in-th also tried using the Stata-prepared dataset (prepared by just running the authors' code), didn't work either. </span>"
   ]
  },
  {
   "cell_type": "markdown",
   "metadata": {},
   "source": [
    "**4.** <span id=\"fn4\"> In the paper, in description of *Table 4* authors name (3) height-for-age as a common measure of wasting, this is a typo. </span>"
   ]
  },
  {
   "cell_type": "markdown",
   "metadata": {},
   "source": [
    "### References and Literature used"
   ]
  },
  {
   "cell_type": "markdown",
   "metadata": {},
   "source": [
    "**1** Martina Björkman Nyqvist, Andrea Guariso, Jakob Svensson, and David Yanagizawa-Drott. *Reducing Child Mortality in the Last Mile: Experimental Evidence on Community Health Promoters in Uganda*. American Economic Journal: Applied Economics 2019, 11(3): 155-192.  \n",
    "**2** Susan Athey, Guido W. Imbens, *The Econometrics of Randomized Experiments*, 2016"
   ]
  }
 ],
 "metadata": {
  "kernelspec": {
   "display_name": "Python 3",
   "language": "python",
   "name": "python3"
  },
  "language_info": {
   "codemirror_mode": {
    "name": "ipython",
    "version": 3
   },
   "file_extension": ".py",
   "mimetype": "text/x-python",
   "name": "python",
   "nbconvert_exporter": "python",
   "pygments_lexer": "ipython3",
   "version": "3.7.6"
  },
  "toc": {
   "base_numbering": 1,
   "nav_menu": {},
   "number_sections": false,
   "sideBar": true,
   "skip_h1_title": false,
   "title_cell": "Table of Contents",
   "title_sidebar": "Contents",
   "toc_cell": true,
   "toc_position": {
    "height": "calc(100% - 180px)",
    "left": "10px",
    "top": "150px",
    "width": "320px"
   },
   "toc_section_display": true,
   "toc_window_display": true
  }
 },
 "nbformat": 4,
 "nbformat_minor": 4
}
